{
 "cells": [
  {
   "cell_type": "markdown",
   "metadata": {},
   "source": [
    "### **Import required libraries** "
   ]
  },
  {
   "cell_type": "code",
   "execution_count": null,
   "metadata": {},
   "outputs": [],
   "source": [
    "import pandas as pd\n",
    "import numpy as np\n",
    "import datetime as dt\n",
    "\n",
    "# Plotting libraries\n",
    "import matplotlib.pyplot as plt\n",
    "import seaborn as sns\n",
    "from bokeh.plotting import figure\n",
    "from bokeh.models import ColumnDataSource, TableColumn, DataTable\n",
    "from bokeh.io import output_notebook\n",
    "from matplotlib.backends.backend_tkagg import FigureCanvasTkAgg\n",
    "from IPython.display import display\n",
    "output_notebook()\n",
    "import panel as pn\n",
    "pn.extension()\n",
    "import holoviews as hv\n",
    "from ipywidgets import VBox\n",
    "hv.extension('bokeh')\n",
    "\n",
    "# Statistics libraries\n",
    "from scipy import stats\n",
    "from scipy.stats import norm, shapiro, mannwhitneyu\n",
    "import plotly.graph_objects as go\n",
    "import plotly.express as px\n",
    "import ipywidgets as widgets\n",
    "from ipywidgets import Output  # ✅ Corrected Import\n",
    "from scipy.stats import anderson\n",
    "from scripts.analysis import *\n"
   ]
  },
  {
   "cell_type": "markdown",
   "metadata": {},
   "source": [
    "### **Load Data**"
   ]
  },
  {
   "cell_type": "code",
   "execution_count": null,
   "metadata": {},
   "outputs": [],
   "source": [
    "# Retrieve data sources as a dictionary using the get_data function\n",
    "import scripts.parser as sc\n",
    "data_sources = sc.get_data() # dictionary\n",
    "df_DSPH = pd.read_csv(data_sources['data_DSPH']) \n",
    "df_Glucose = pd.read_csv(data_sources['data_Glucose']) "
   ]
  },
  {
   "cell_type": "markdown",
   "metadata": {},
   "source": [
    "## Section 1\n",
    "### **Inspect data**"
   ]
  },
  {
   "cell_type": "code",
   "execution_count": null,
   "metadata": {},
   "outputs": [],
   "source": [
    "df_Glucose.info()\n"
   ]
  },
  {
   "cell_type": "code",
   "execution_count": null,
   "metadata": {},
   "outputs": [],
   "source": [
    "df_DSPH.info()"
   ]
  },
  {
   "cell_type": "code",
   "execution_count": null,
   "metadata": {},
   "outputs": [],
   "source": [
    "df_Glucose.head()"
   ]
  },
  {
   "cell_type": "code",
   "execution_count": null,
   "metadata": {},
   "outputs": [],
   "source": [
    "df_DSPH.head()"
   ]
  },
  {
   "cell_type": "markdown",
   "metadata": {},
   "source": [
    "#### **Step1 The number of observations and features**"
   ]
  },
  {
   "cell_type": "code",
   "execution_count": null,
   "metadata": {},
   "outputs": [],
   "source": [
    "len(df_DSPH)"
   ]
  },
  {
   "cell_type": "code",
   "execution_count": null,
   "metadata": {},
   "outputs": [],
   "source": [
    "df = df_DSPH.copy()"
   ]
  },
  {
   "cell_type": "markdown",
   "metadata": {},
   "source": [
    "### **Function for finding missing values in each column and whole DataFrame**"
   ]
  },
  {
   "cell_type": "code",
   "execution_count": null,
   "metadata": {},
   "outputs": [],
   "source": [
    "dic_miss_value, num_miss_df = miss_values(df_DSPH)  # Missing values in the DataFrame\n",
    "print(f'Missing values in each column: {dic_miss_value}')\n",
    "print(f'Missing values in the whole DataFrame: {num_miss_df:.2%}')"
   ]
  },
  {
   "cell_type": "code",
   "execution_count": null,
   "metadata": {},
   "outputs": [],
   "source": [
    "\n",
    "columns_to_check = ['Weight-I(Kg)', 'Weight-II(Kg)', 'Weight-III(Kg)', 'Weight-IV(Kg)']\n",
    "df_no_outliers = remove_outliers_iqr(df, columns_to_check)\n",
    "print(len(df_no_outliers))\n"
   ]
  },
  {
   "cell_type": "code",
   "execution_count": null,
   "metadata": {},
   "outputs": [],
   "source": [
    "dic_miss_value"
   ]
  },
  {
   "cell_type": "code",
   "execution_count": null,
   "metadata": {},
   "outputs": [],
   "source": [
    "df = pd.read_csv('Data/Data_DSPH.csv', parse_dates=['Date'], dayfirst=True) "
   ]
  },
  {
   "cell_type": "markdown",
   "metadata": {},
   "source": [
    "### **Clean data**"
   ]
  },
  {
   "cell_type": "code",
   "execution_count": null,
   "metadata": {},
   "outputs": [],
   "source": [
    "df = fill_clear(df, dic_miss_value)"
   ]
  },
  {
   "cell_type": "code",
   "execution_count": null,
   "metadata": {},
   "outputs": [],
   "source": [
    "dic_miss_value"
   ]
  },
  {
   "cell_type": "markdown",
   "metadata": {},
   "source": [
    "---"
   ]
  },
  {
   "cell_type": "markdown",
   "metadata": {},
   "source": [
    "## Section 2\n",
    "### **Imputing Missing Data for 'Historic Glucose mmol/L' and 'Scan Glucose mmol/L'.**"
   ]
  },
  {
   "cell_type": "code",
   "execution_count": null,
   "metadata": {},
   "outputs": [],
   "source": [
    "df_filled = fill_clear(df_DSPH, dic_miss_value)  # Fill missing values in numeric columns\n",
    "print(df_filled)"
   ]
  },
  {
   "cell_type": "code",
   "execution_count": null,
   "metadata": {},
   "outputs": [],
   "source": [
    "print(len(df_filled))\n",
    "df_filled.columns"
   ]
  },
  {
   "cell_type": "markdown",
   "metadata": {},
   "source": [
    "### **Remove Outlier Values**"
   ]
  },
  {
   "cell_type": "code",
   "execution_count": null,
   "metadata": {},
   "outputs": [],
   "source": [
    "columns_to_check = ['Weight-I(Kg)', 'Weight-II(Kg)', 'Weight-III(Kg)', 'Weight-IV(Kg)']\n",
    "df_no_outliers = remove_outliers_iqr(df_DSPH, columns_to_check)\n",
    "print(len(df_no_outliers))\n"
   ]
  },
  {
   "cell_type": "code",
   "execution_count": null,
   "metadata": {},
   "outputs": [],
   "source": [
    "df_DSPH.info()"
   ]
  },
  {
   "cell_type": "code",
   "execution_count": null,
   "metadata": {},
   "outputs": [],
   "source": [
    "df_DSPH.columns = df_DSPH.columns.str.strip()\n",
    "df_filled.columns = df_filled.columns.str.strip()"
   ]
  },
  {
   "cell_type": "code",
   "execution_count": null,
   "metadata": {},
   "outputs": [],
   "source": [
    "df_filled.columns = df_filled.columns.str.strip()  # Remove Space from our Char"
   ]
  },
  {
   "cell_type": "markdown",
   "metadata": {},
   "source": [
    "---"
   ]
  },
  {
   "cell_type": "markdown",
   "metadata": {},
   "source": [
    "### **Section 3 Heart Rate Analysis**\n"
   ]
  },
  {
   "cell_type": "code",
   "execution_count": null,
   "metadata": {},
   "outputs": [],
   "source": [
    "\n",
    "# Define columns and labels\n",
    "columns = ['Heart-rate-Z', 'Heart-rate-R', 'Heart-rate-O', 'Heart-rate-J']\n",
    "labels = ['Heart-rate Ⅰ', 'Heart-rate Ⅱ', 'Heart-rate Ⅲ', 'Heart-rate Ⅳ']\n",
    "\n",
    "# Call the function with the dataframe\n",
    "plot_qq_plots(df_filled, columns, labels)\n",
    "\n"
   ]
  },
  {
   "cell_type": "markdown",
   "metadata": {},
   "source": [
    "### **Anderson test for Heart rate to evaulate Normality Data for each participant.**"
   ]
  },
  {
   "cell_type": "code",
   "execution_count": null,
   "metadata": {},
   "outputs": [],
   "source": [
    "# Define column names and user labels\n",
    "heart_rate_columns = ['Heart-rate-Z', 'Heart-rate-R', 'Heart-rate-O', 'Heart-rate-J']\n",
    "user_labels = ['User Ⅰ', 'User Ⅱ', 'User Ⅲ', 'User Ⅳ']\n",
    "\n",
    "# Call the function with your dataframe\n",
    "anderson_results = anderson_darling_test(df_filled, heart_rate_columns, user_labels)\n"
   ]
  },
  {
   "cell_type": "markdown",
   "metadata": {},
   "source": [
    "----"
   ]
  },
  {
   "cell_type": "markdown",
   "metadata": {},
   "source": [
    "### **Interactive Bar Chart for Heart Rate.**"
   ]
  },
  {
   "cell_type": "code",
   "execution_count": null,
   "metadata": {},
   "outputs": [],
   "source": [
    "# Define column names and user labels\n",
    "heart_rate_columns = ['Heart-rate-Z', 'Heart-rate-R', 'Heart-rate-O', 'Heart-rate-J']\n",
    "user_labels = ['Ⅰ', 'Ⅱ', 'Ⅲ', 'Ⅳ']\n",
    "\n",
    "# Call the function with your dataframe\n",
    "fig_heart_rate = plot_average_heart_rate(df_filled, heart_rate_columns, user_labels)\n",
    "fig_heart_rate.show()\n"
   ]
  },
  {
   "cell_type": "markdown",
   "metadata": {},
   "source": [
    "### **Histogram for Heart_rate**"
   ]
  },
  {
   "cell_type": "code",
   "execution_count": null,
   "metadata": {},
   "outputs": [],
   "source": [
    "# Define columns and labels\n",
    "heart_rate_columns = ['Heart-rate-Z', 'Heart-rate-R', 'Heart-rate-O', 'Heart-rate-J']\n",
    "user_labels = ['Ⅰ', 'Ⅱ', 'Ⅲ', 'Ⅳ']\n",
    "\n",
    "# Call the function with your dataframe\n",
    "plot_heart_rate_distribution(df_filled, heart_rate_columns, user_labels)\n"
   ]
  },
  {
   "cell_type": "markdown",
   "metadata": {},
   "source": [
    "---"
   ]
  },
  {
   "cell_type": "markdown",
   "metadata": {},
   "source": [
    "### **Mean Heart Rate, Heart Rate Changes During Different Supplement Doses.**"
   ]
  },
  {
   "cell_type": "code",
   "execution_count": null,
   "metadata": {},
   "outputs": [],
   "source": [
    "plot_heart_rate_analysis(df_filled)\n"
   ]
  },
  {
   "cell_type": "markdown",
   "metadata": {},
   "source": [
    "---"
   ]
  },
  {
   "cell_type": "markdown",
   "metadata": {},
   "source": [
    "#### **Box plot for Average of Heart Rate for All participants to have a overall view about outliers.**"
   ]
  },
  {
   "cell_type": "code",
   "execution_count": null,
   "metadata": {},
   "outputs": [],
   "source": [
    "plot_heart_rate_boxplot(df_filled)\n"
   ]
  },
  {
   "cell_type": "markdown",
   "metadata": {},
   "source": [
    "---"
   ]
  },
  {
   "cell_type": "markdown",
   "metadata": {},
   "source": [
    "#### **Interactive Section for more evaluation of each user**"
   ]
  },
  {
   "cell_type": "markdown",
   "metadata": {},
   "source": [
    "### **Interactive heart_rate_over_time for each participant.**"
   ]
  },
  {
   "cell_type": "code",
   "execution_count": null,
   "metadata": {},
   "outputs": [],
   "source": [
    "# Ensure column names are clean\n",
    "df_filled.columns = df_filled.columns.str.strip()\n",
    "\n",
    "# Define heart rate measurement columns\n",
    "heart_rate_columns = {\n",
    "    'I': 'Heart-rate-Z',\n",
    "    'II': 'Heart-rate-R',\n",
    "    'III': 'Heart-rate-O',\n",
    "    'IV': 'Heart-rate-J'\n",
    "}\n",
    "\n",
    "# Function to plot heart rate over time\n",
    "def plot_heart_rate_over_time(selected_user):\n",
    "    heart_rate_col = heart_rate_columns[selected_user]\n",
    "\n",
    "    # Filter and clean dataset\n",
    "    user_data = df_filled[['Date', heart_rate_col]].dropna()\n",
    "    user_data.rename(columns={heart_rate_col: 'Heart Rate'}, inplace=True)\n",
    "\n",
    "    # Create a line plot\n",
    "    plt.figure(figsize=(10, 5))\n",
    "    plt.plot(user_data['Date'], user_data['Heart Rate'], marker='o', linestyle='-', label=f\"Heart Rate - {selected_user}\", color='blue')\n",
    "\n",
    "    # Customize plot appearance\n",
    "    plt.xlabel('Date')\n",
    "    plt.ylabel('Heart Rate (bpm)')\n",
    "    plt.title(f'Heart Rate Over Time - User {selected_user}')\n",
    "    plt.xticks(rotation=45)\n",
    "    plt.legend()\n",
    "    plt.grid(True, linestyle=\"--\", alpha=0.5)\n",
    "\n",
    "    # Show the plot\n",
    "    plt.show()\n",
    "\n",
    "# Create a dropdown widget for user selection\n",
    "user_dropdown = widgets.Dropdown(\n",
    "    options=list(heart_rate_columns.keys()),\n",
    "    description='Select User:',\n",
    "    style={'description_width': 'initial'}\n",
    ")\n",
    "\n",
    "# Display the dropdown and make it interactive\n",
    "display(user_dropdown)\n",
    "widgets.interactive(plot_heart_rate_over_time, selected_user=user_dropdown)"
   ]
  },
  {
   "cell_type": "markdown",
   "metadata": {},
   "source": [
    "#### **Interactive Box plot for Average of Heart Rate for All participantsin all Phases.**"
   ]
  },
  {
   "cell_type": "code",
   "execution_count": null,
   "metadata": {},
   "outputs": [],
   "source": [
    "# ✅ Function to Run the Interactive Plot\n",
    "def run_interactive_boxplot(df):\n",
    "    df_long = prepare_data(df)\n",
    "    create_interactive_boxplot(df_long)\n",
    "\n",
    "# ✅ Example Usage\n",
    "run_interactive_boxplot(df_filled)  # Uncomment this to run the function\n",
    "\n"
   ]
  },
  {
   "cell_type": "markdown",
   "metadata": {},
   "source": [
    "###  **Interactive Scatter polt and Linear regression for Heart rate**"
   ]
  },
  {
   "cell_type": "code",
   "execution_count": null,
   "metadata": {},
   "outputs": [],
   "source": [
    "plot_heart_rate_regression(df_filled)\n"
   ]
  },
  {
   "cell_type": "markdown",
   "metadata": {},
   "source": [
    "### **Interactive Bar chart for Heart rate over phases**"
   ]
  },
  {
   "cell_type": "code",
   "execution_count": null,
   "metadata": {},
   "outputs": [],
   "source": [
    "plot_heart_rate_bar_chart(df_filled)"
   ]
  },
  {
   "cell_type": "markdown",
   "metadata": {},
   "source": [
    "###  **Interactive Summary Table and Analysis for Heart rate**"
   ]
  },
  {
   "cell_type": "code",
   "execution_count": null,
   "metadata": {},
   "outputs": [],
   "source": [
    "interactive_statistics(df_filled)\n"
   ]
  },
  {
   "cell_type": "markdown",
   "metadata": {},
   "source": [
    "---"
   ]
  },
  {
   "cell_type": "markdown",
   "metadata": {},
   "source": [
    "## **Section 4** \n",
    "### **Blood Pressure and Blood Pressure(Systolic, Diastolic) (mmHg)**\n"
   ]
  },
  {
   "cell_type": "markdown",
   "metadata": {},
   "source": [
    "### **QQ Plot for Blood pressure(Systolic, Diastolic)**"
   ]
  },
  {
   "cell_type": "code",
   "execution_count": null,
   "metadata": {},
   "outputs": [],
   "source": [
    "\n",
    "# ✅ Example Usage:\n",
    "generate_qq_plots(df_filled)  # Uncomment to run\n"
   ]
  },
  {
   "cell_type": "markdown",
   "metadata": {},
   "source": [
    "### **Interactive Scatter plot for Blood Prussure(Systolic, Diastolic)**"
   ]
  },
  {
   "cell_type": "code",
   "execution_count": null,
   "metadata": {},
   "outputs": [],
   "source": [
    "# Define column names for each metric\n",
    "systolic_bp_columns = [\n",
    "    'Blood-Pressure(systolic)(mmHg)-Z', \n",
    "    'Blood-Pressure(systolic)(mmHg)-R', \n",
    "    'Blood-Pressure(systolic)(mmHg)-O', \n",
    "    'Blood-Pressure(systolic)(mmHg)-J'\n",
    "]\n",
    "\n",
    "diastolic_bp_columns = [\n",
    "    'Blood-Pressure(diastolic)(mmHg)-Z', \n",
    "    'Blood-Pressure(diastolic)(mmHg)-R', \n",
    "    'Blood-Pressure(diastolic)(mmHg)-O', \n",
    "    'Blood-Pressure(diastolic)(mmHg)-J'\n",
    "]\n",
    "\n",
    "roman_labels = ['User I', 'User II', 'User III', 'User IV']  # Ensuring correct mapping\n",
    "\n",
    "def create_qq_plot(columns, title, df):\n",
    "    fig = go.Figure()\n",
    "    has_data = False  # Track if we add any data to the plot\n",
    "    all_x_values = []  # Store all x-values for dynamic scaling\n",
    "    all_y_values = []  # Store all y-values for dynamic scaling\n",
    "\n",
    "    for col, roman in zip(columns, roman_labels):\n",
    "        if col not in df.columns:\n",
    "            print(f\"Warning: Column {col} not found in DataFrame, skipping.\")\n",
    "            continue\n",
    "        \n",
    "        data = df[col].dropna()\n",
    " \n",
    "        if data.empty:\n",
    "            print(f\"Warning: No valid numeric data for {roman}, skipping.\")\n",
    "            continue  # Skip if no valid data\n",
    "        \n",
    "        has_data = True\n",
    "        \n",
    "        # Perform Q-Q plot calculation without standardization\n",
    "        osm, osr = stats.probplot(data, dist=\"norm\")[0]  # Extract only the quantiles\n",
    "        all_x_values.extend(osm)\n",
    "        all_y_values.extend(osr)\n",
    "        # Add scatter plot for each user\n",
    "        fig.add_trace(go.Scatter(\n",
    "            x=osm, \n",
    "            y=osr, \n",
    "            mode='markers', \n",
    "            name=f'QQ Plot for {roman}',\n",
    "            marker=dict(size=8, opacity=0.7, symbol='circle')\n",
    "        ))\n",
    "\n",
    "    if not has_data:\n",
    "        print(f\"No valid data for {title}, skipping plot.\")\n",
    "        return  # Do not create an empty plot\n",
    "\n",
    "    # Adjust X and Y axis dynamically based on real data\n",
    "    min_x, max_x = min(all_x_values), max(all_x_values)\n",
    "    min_y, max_y = min(all_y_values), max(all_y_values)\n",
    "\n",
    "    # Add reference (y=x) line\n",
    "    fig.add_trace(go.Scatter(\n",
    "        x=[min_x, max_x], \n",
    "        y=[min_x, max_x], \n",
    "        mode='lines', \n",
    "        name='Reference Line',\n",
    "        line=dict(color='red', dash='dash')\n",
    "    ))\n",
    "\n",
    "    fig.update_layout(\n",
    "        title=title,\n",
    "        xaxis_title=\"Theoretical Quantiles\",\n",
    "        yaxis_title=\"Ordered Values\",\n",
    "        xaxis=dict(range=[min_x, max_x]),\n",
    "        yaxis=dict(range=[min_y, max_y]),\n",
    "        template=\"plotly_white\"\n",
    "    )\n",
    "    \n",
    "    #print(f\"Displaying {title}...\")  # Debugging\n",
    "    fig.show()\n",
    "\n",
    "\n",
    "# Ensure only valid columns are processed\n",
    "df.columns = df.columns.str.strip()\n",
    "systolic_bp_columns = [col for col in systolic_bp_columns if col in df.columns]\n",
    "diastolic_bp_columns = [col for col in diastolic_bp_columns if col in df.columns]\n",
    "\n",
    "# Generate and separately display both plots\n",
    "create_qq_plot(systolic_bp_columns, \"QQ Plot for Systolic Blood Pressure\", df)\n",
    "create_qq_plot(diastolic_bp_columns, \"QQ Plot for Diastolic Blood Pressure\", df)\n",
    "\n"
   ]
  },
  {
   "cell_type": "code",
   "execution_count": null,
   "metadata": {},
   "outputs": [],
   "source": [
    "print(df_filled[systolic_bp_columns].mean())  \n",
    "print(df_filled[diastolic_bp_columns].mean())\n"
   ]
  },
  {
   "cell_type": "markdown",
   "metadata": {},
   "source": [
    "### **Bar Chart for Blood-Pressure(Systolic, Diastolic)** "
   ]
  },
  {
   "cell_type": "code",
   "execution_count": null,
   "metadata": {},
   "outputs": [],
   "source": [
    "\n",
    "# ✅ Example Usage:\n",
    "plot_blood_pressure(df_filled)  # Uncomment to run\n"
   ]
  },
  {
   "cell_type": "markdown",
   "metadata": {},
   "source": [
    "### **Distribution for Blood Pressure(Systolic, Diastolic)**"
   ]
  },
  {
   "cell_type": "code",
   "execution_count": null,
   "metadata": {},
   "outputs": [],
   "source": [
    "plot_blood_pressure_distribution(df_filled)  "
   ]
  },
  {
   "cell_type": "markdown",
   "metadata": {},
   "source": [
    "### **Box plot for Blood Prussure(Systolic, Diastolic).**"
   ]
  },
  {
   "cell_type": "code",
   "execution_count": null,
   "metadata": {},
   "outputs": [],
   "source": [
    "plot_blood_pressure_boxplots(df_DSPH)  # Uncomment to run\n"
   ]
  },
  {
   "cell_type": "markdown",
   "metadata": {},
   "source": [
    "### **Blood Pressure(Systolic, Diastolic) Changes During Different Supplement Doses**"
   ]
  },
  {
   "cell_type": "code",
   "execution_count": null,
   "metadata": {},
   "outputs": [],
   "source": [
    "# Simulated data\n",
    "dates = pd.date_range(start=\"2024-01-01\", periods=62, freq=\"D\")\n",
    "\n",
    "# Random blood pressure data for 4 participants\n",
    "np.random.seed(42)\n",
    "BP_sys_Z = np.random.randint(110, 140, size=len(dates))\n",
    "BP_sys_R = np.random.randint(115, 145, size=len(dates))\n",
    "BP_sys_O = np.random.randint(120, 150, size=len(dates))\n",
    "BP_sys_J = np.random.randint(110, 135, size=len(dates))\n",
    "\n",
    "BP_dia_Z = np.random.randint(70, 90, size=len(dates))\n",
    "BP_dia_R = np.random.randint(75, 95, size=len(dates))\n",
    "BP_dia_O = np.random.randint(80, 100, size=len(dates))\n",
    "BP_dia_J = np.random.randint(70, 85, size=len(dates))\n",
    "\n",
    "# 1. Line Plot for Blood Pressure Changes\n",
    "plt.figure(figsize=(15, 7))\n",
    "plt.plot(dates, BP_sys_Z, label='Systolic I', marker='o')\n",
    "plt.plot(dates, BP_sys_R, label='Systolic II', marker='o')\n",
    "plt.plot(dates, BP_sys_O, label='Systolic III', marker='o')\n",
    "plt.plot(dates, BP_sys_J, label='Systolic IV', marker='o')\n",
    "\n",
    "plt.plot(dates, BP_dia_Z, label='Diastolic I', linestyle='dashed', marker='s')\n",
    "plt.plot(dates, BP_dia_R, label='Diastolic II', linestyle='dashed', marker='s')\n",
    "plt.plot(dates, BP_dia_O, label='Diastolic III', linestyle='dashed', marker='s')\n",
    "plt.plot(dates, BP_dia_J, label='Diastolic IV', linestyle='dashed', marker='s')\n",
    "\n",
    "# Add phase separators and labels\n",
    "phases = [0, 10, 21, 41, 61]  \n",
    "phase_labels = ['Half-Dose\\n(10d)', 'Full-Dose\\n(10d)', 'Half-Dose\\n(20d)', 'Full-Dose\\n(14d)']\n",
    "for p in phases[1:-1]:\n",
    "    plt.axvline(x=dates[p], color='gray', linestyle='--', alpha=0.5)\n",
    "\n",
    "plt.title('Blood Pressure Changes During Different Supplement Doses', fontsize=14)\n",
    "plt.xticks(rotation=45, ha='right')\n",
    "plt.ylabel('Blood Pressure (mmHg)', fontsize=12)\n",
    "plt.legend()\n",
    "plt.grid(True, alpha=0.3)\n",
    "plt.show()\n",
    "\n",
    "# 2. Box Plot for Blood Pressure in Different Phases\n",
    "phases_dict = {\n",
    "    'Half-Dose (10d)': slice(0, 10),\n",
    "    'Full-Dose (10d)': slice(11, 21),\n",
    "    'Half-Dose (20d)': slice(22, 42),\n",
    "    'Full-Dose (14d)': slice(43, None)\n",
    "}\n",
    "\n",
    "plt.figure(figsize=(15, 7))\n",
    "for i, (phase, index) in enumerate(phases_dict.items(), 1):\n",
    "    plt.subplot(2, 2, i)\n",
    "    phase_data = pd.DataFrame({\n",
    "        'Systolic-I': BP_sys_Z[index], 'Systolic-II': BP_sys_R[index],\n",
    "        'Systolic-III': BP_sys_O[index], 'Systolic-IV': BP_sys_J[index],\n",
    "        'Diastolic-I': BP_dia_Z[index], 'Diastolic-II': BP_dia_R[index],\n",
    "        'Diastolic-III': BP_dia_O[index], 'Diastolic-IV': BP_dia_J[index]\n",
    "    })\n",
    "    sns.boxplot(data=phase_data)\n",
    "    plt.title(phase)\n",
    "    plt.ylabel('Blood Pressure (mmHg)')\n",
    "\n",
    "plt.tight_layout()\n",
    "plt.show()\n",
    "\n",
    "# 3. Mean Blood Pressure Changes\n",
    "mean_bp = {\n",
    "    'Phase': list(phases_dict.keys()),\n",
    "    'Systolic-I': [BP_sys_Z[index].mean() for index in phases_dict.values()],\n",
    "    'Systolic-II': [BP_sys_R[index].mean() for index in phases_dict.values()],\n",
    "    'Systolic-III': [BP_sys_O[index].mean() for index in phases_dict.values()],\n",
    "    'Systolic-IV': [BP_sys_J[index].mean() for index in phases_dict.values()],\n",
    "    'Diastolic-I': [BP_dia_Z[index].mean() for index in phases_dict.values()],\n",
    "    'Diastolic-II': [BP_dia_R[index].mean() for index in phases_dict.values()],\n",
    "    'Diastolic-III': [BP_dia_O[index].mean() for index in phases_dict.values()],\n",
    "    'Diastolic-IV': [BP_dia_J[index].mean() for index in phases_dict.values()]\n",
    "}\n",
    "\n",
    "means_df = pd.DataFrame(mean_bp)\n",
    "\n",
    "plt.figure(figsize=(12, 6))\n",
    "bar_width = 0.1\n",
    "r1 = np.arange(len(means_df['Phase']))\n",
    "r_positions = [r1 + i*bar_width for i in range(8)]\n",
    "\n",
    "for i, col in enumerate(means_df.columns[1:]):\n",
    "    plt.bar(r_positions[i], means_df[col], width=bar_width, label=col)\n",
    "\n",
    "plt.xlabel('Phase')\n",
    "plt.ylabel('Mean Blood Pressure (mmHg)')\n",
    "plt.title('Mean Blood Pressure by Phase and Measurement Type')\n",
    "plt.xticks(r1 + (bar_width*3.5), means_df['Phase'], rotation=45, ha=\"right\")\n",
    "plt.legend()\n",
    "plt.show()\n"
   ]
  },
  {
   "cell_type": "markdown",
   "metadata": {},
   "source": [
    "---"
   ]
  },
  {
   "cell_type": "markdown",
   "metadata": {},
   "source": [
    "### **Interactive Dashboards for Blood Prussure(Systolic, Diastolic)**"
   ]
  },
  {
   "cell_type": "markdown",
   "metadata": {},
   "source": [
    "### **Interactive Blood prussure(Systolic, Diastolic) over time for each participant.**"
   ]
  },
  {
   "cell_type": "code",
   "execution_count": null,
   "metadata": {},
   "outputs": [],
   "source": [
    "import pandas as pd\n",
    "import matplotlib.pyplot as plt\n",
    "import ipywidgets as widgets\n",
    "from IPython.display import display\n",
    "\n",
    "# Ensure column names are clean\n",
    "df_filled.columns = df_filled.columns.str.strip()\n",
    "\n",
    "# Define blood pressure measurement columns\n",
    "bp_systolic_columns = {\n",
    "    'I': 'Blood-Pressure(systolic)(mmHg)-Z',\n",
    "    'II': 'Blood-Pressure(systolic)(mmHg)-R',\n",
    "    'III': 'Blood-Pressure(systolic)(mmHg)-O',\n",
    "    'IV': 'Blood-Pressure(systolic)(mmHg)-J'\n",
    "}\n",
    "\n",
    "bp_diastolic_columns = {\n",
    "    'I': 'Blood-Pressure(diastolic)(mmHg)-Z',\n",
    "    'II': 'Blood-Pressure(diastolic)(mmHg)-R',\n",
    "    'III': 'Blood-Pressure(diastolic)(mmHg)-O',\n",
    "    'IV': 'Blood-Pressure(diastolic)(mmHg)-J'\n",
    "}\n",
    "\n",
    "# Function to plot Blood Pressure over time\n",
    "def plot_bp_over_time(selected_user):\n",
    "    systolic_col = bp_systolic_columns[selected_user]\n",
    "    diastolic_col = bp_diastolic_columns[selected_user]\n",
    "\n",
    "    # Filter and clean dataset\n",
    "    user_data = df_filled[['Date', systolic_col, diastolic_col]].dropna()\n",
    "    user_data.rename(columns={systolic_col: 'Systolic BP', diastolic_col: 'Diastolic BP'}, inplace=True)\n",
    "\n",
    "    # Create a line plot\n",
    "    plt.figure(figsize=(10, 5))\n",
    "    plt.plot(user_data['Date'], user_data['Systolic BP'], marker='o', linestyle='-', label=f\"Systolic BP - {selected_user}\", color='blue')\n",
    "    plt.plot(user_data['Date'], user_data['Diastolic BP'], marker='o', linestyle='-', label=f\"Diastolic BP - {selected_user}\", color='red')\n",
    "\n",
    "    # Customize plot appearance\n",
    "    plt.xlabel('Date')\n",
    "    plt.ylabel('Blood Pressure (mmHg)')\n",
    "    plt.title(f'Blood Pressure Over Time - User {selected_user}')\n",
    "    plt.xticks(rotation=45)\n",
    "    plt.legend()\n",
    "    plt.grid(True, linestyle=\"--\", alpha=0.5)\n",
    "\n",
    "    # Show the plot\n",
    "    plt.show()\n",
    "\n",
    "# Create a dropdown widget for user selection\n",
    "user_dropdown = widgets.Dropdown(\n",
    "    options=list(bp_systolic_columns.keys()),\n",
    "    description='Select User:',\n",
    "    style={'description_width': 'initial'}\n",
    ")\n",
    "\n",
    "# Display the dropdown and make it interactive\n",
    "display(user_dropdown)\n",
    "widgets.interactive(plot_bp_over_time, selected_user=user_dropdown)\n"
   ]
  },
  {
   "cell_type": "markdown",
   "metadata": {},
   "source": [
    "#### **Interactive Box plot for Average of Blood prussure(Systolic, Diastolic) for All participantsin all Phases.**"
   ]
  },
  {
   "cell_type": "code",
   "execution_count": null,
   "metadata": {},
   "outputs": [],
   "source": [
    "# Ensure column names are clean\n",
    "df_filled.columns = df_filled.columns.str.strip()\n",
    "\n",
    "# Define blood pressure measurement columns\n",
    "bp_systolic_columns = {\n",
    "    'I': 'Blood-Pressure(systolic)(mmHg)-Z',\n",
    "    'II': 'Blood-Pressure(systolic)(mmHg)-R',\n",
    "    'III': 'Blood-Pressure(systolic)(mmHg)-O',\n",
    "    'IV': 'Blood-Pressure(systolic)(mmHg)-J'\n",
    "}\n",
    "\n",
    "bp_diastolic_columns = {\n",
    "    'I': 'Blood-Pressure(diastolic)(mmHg)-Z',\n",
    "    'II': 'Blood-Pressure(diastolic)(mmHg)-R',\n",
    "    'III': 'Blood-Pressure(diastolic)(mmHg)-O',\n",
    "    'IV': 'Blood-Pressure(diastolic)(mmHg)-J'\n",
    "}\n",
    "\n",
    "# Convert blood pressure values to numeric\n",
    "for col in list(bp_systolic_columns.values()) + list(bp_diastolic_columns.values()):\n",
    "    df_filled[col] = pd.to_numeric(df_filled[col], errors='coerce')\n",
    "\n",
    "# Ensure 'Date' column exists and is in datetime format\n",
    "if 'Date' in df_filled.columns:\n",
    "    df_filled['Date'] = pd.to_datetime(df_filled['Date'])\n",
    "\n",
    "# Determine the number of rows per phase\n",
    "num_rows = len(df_filled)\n",
    "phase_labels = ['Phase 1', 'Phase 2', 'Phase 3', 'Phase 4']\n",
    "df_filled['Phase'] = np.tile(phase_labels, num_rows // len(phase_labels) + 1)[:num_rows]\n",
    "\n",
    "# Convert DataFrame into long format for plotting\n",
    "df_systolic_long = pd.melt(df_filled, id_vars=['Date', 'Phase'], value_vars=bp_systolic_columns.values(), var_name='Participant', value_name='Systolic BP')\n",
    "df_diastolic_long = pd.melt(df_filled, id_vars=['Date', 'Phase'], value_vars=bp_diastolic_columns.values(), var_name='Participant', value_name='Diastolic BP')\n",
    "\n",
    "# Rename participants\n",
    "df_systolic_long['Participant'] = df_systolic_long['Participant'].map({v: k for k, v in bp_systolic_columns.items()})\n",
    "df_diastolic_long['Participant'] = df_diastolic_long['Participant'].map({v: k for k, v in bp_diastolic_columns.items()})\n",
    "\n",
    "# List of unique participants\n",
    "participants = ['All Participants'] + list(bp_systolic_columns.keys())\n",
    "\n",
    "# Dropdown Widget\n",
    "dropdown = widgets.Dropdown(\n",
    "    options=participants,\n",
    "    description='Select Participant:',\n",
    "    style={'description_width': 'initial'}\n",
    ")\n",
    "\n",
    "# Function to plot boxplot\n",
    "def update_boxplot(selected_participant):\n",
    "    plt.figure(figsize=(12, 5))\n",
    "    \n",
    "    if selected_participant == 'All Participants':\n",
    "        sns.boxplot(data=df_systolic_long, x='Phase', y='Systolic BP', hue='Participant', palette='Blues', linewidth=1)\n",
    "        plt.title(\"Systolic Blood Pressure Distribution Across Phases (All Participants)\")\n",
    "    else:\n",
    "        subset_systolic = df_systolic_long[df_systolic_long['Participant'] == selected_participant]\n",
    "        subset_diastolic = df_diastolic_long[df_diastolic_long['Participant'] == selected_participant]\n",
    "\n",
    "        if subset_systolic.empty or subset_diastolic.empty:\n",
    "            print(f\"No data available for {selected_participant}\")\n",
    "            return\n",
    "\n",
    "        fig, axes = plt.subplots(1, 2, figsize=(14, 5))\n",
    "\n",
    "        sns.boxplot(data=subset_systolic, x='Phase', y='Systolic BP', palette='Blues', linewidth=1, ax=axes[0])\n",
    "        axes[0].set_title(f\"Systolic Blood Pressure - {selected_participant}\")\n",
    "        axes[0].set_xlabel(\"Phase\")\n",
    "        axes[0].set_ylabel(\"Blood Pressure (mmHg)\")\n",
    "\n",
    "        sns.boxplot(data=subset_diastolic, x='Phase', y='Diastolic BP', palette='Reds', linewidth=1, ax=axes[1])\n",
    "        axes[1].set_title(f\"Diastolic Blood Pressure - {selected_participant}\")\n",
    "        axes[1].set_xlabel(\"Phase\")\n",
    "        axes[1].set_ylabel(\"Blood Pressure (mmHg)\")\n",
    "\n",
    "        plt.tight_layout()\n",
    "\n",
    "    plt.grid(True, linestyle='--', alpha=0.5)\n",
    "    plt.show()\n",
    "\n",
    "# Display dropdown and connect it to function\n",
    "interactive_plot = widgets.interactive(update_boxplot, selected_participant=dropdown)\n",
    "display(dropdown, interactive_plot)\n"
   ]
  },
  {
   "cell_type": "markdown",
   "metadata": {},
   "source": [
    "### **Interactive Bar chart for Blood prussure(Systolic, Diastolic) over phases**"
   ]
  },
  {
   "cell_type": "code",
   "execution_count": null,
   "metadata": {},
   "outputs": [],
   "source": [
    "# Ensure column names are clean\n",
    "df_filled.columns = df_filled.columns.str.strip()\n",
    "\n",
    "# Define Blood Pressure measurement columns (Systolic & Diastolic)\n",
    "bp_systolic_columns = {\n",
    "    'I': 'Blood-Pressure(systolic)(mmHg)-Z',\n",
    "    'II': 'Blood-Pressure(systolic)(mmHg)-R',\n",
    "    'III': 'Blood-Pressure(systolic)(mmHg)-O',\n",
    "    'IV': 'Blood-Pressure(systolic)(mmHg)-J'\n",
    "}\n",
    "\n",
    "bp_diastolic_columns = {\n",
    "    'I': 'Blood-Pressure(diastolic)(mmHg)-Z',\n",
    "    'II': 'Blood-Pressure(diastolic)(mmHg)-R',\n",
    "    'III': 'Blood-Pressure(diastolic)(mmHg)-O',\n",
    "    'IV': 'Blood-Pressure(diastolic)(mmHg)-J'\n",
    "}\n",
    "\n",
    "# Convert Blood Pressure values to numeric\n",
    "for col in list(bp_systolic_columns.values()) + list(bp_diastolic_columns.values()):\n",
    "    df_filled[col] = pd.to_numeric(df_filled[col], errors='coerce')\n",
    "\n",
    "# Function to generate bar charts for the selected user\n",
    "def analyze_user(selected_user):\n",
    "    systolic_col = bp_systolic_columns[selected_user]\n",
    "    diastolic_col = bp_diastolic_columns[selected_user]\n",
    "\n",
    "    # Filter and clean dataset\n",
    "    user_data = df_filled[['Intake-Dose', systolic_col, diastolic_col]].dropna()\n",
    "    user_data = user_data[user_data['Intake-Dose'] != 'Break']\n",
    "    user_data.rename(columns={systolic_col: 'Systolic', diastolic_col: 'Diastolic', 'Intake-Dose': 'Phase'}, inplace=True)\n",
    "    user_data['Phase'] = user_data['Phase'].str.strip()\n",
    "\n",
    "    # Calculate mean values per phase\n",
    "    mean_systolic = user_data.groupby('Phase')['Systolic'].mean()\n",
    "    mean_diastolic = user_data.groupby('Phase')['Diastolic'].mean()\n",
    "\n",
    "    # Create a bar chart\n",
    "    plt.figure(figsize=(8, 5))\n",
    "    \n",
    "    # Plot systolic\n",
    "    bars1 = plt.bar(mean_systolic.index, mean_systolic.values, width=0.4, color='blue', label='Systolic BP', align='center')\n",
    "    # Plot diastolic\n",
    "    bars2 = plt.bar(mean_diastolic.index, mean_diastolic.values, width=0.4, color='red', label='Diastolic BP', align='edge')\n",
    "\n",
    "    # Add numerical values on top of bars\n",
    "    for bar in bars1:\n",
    "        plt.text(bar.get_x() + bar.get_width()/2, bar.get_height(), \n",
    "                 f'{bar.get_height():.2f}', ha='center', va='bottom', fontsize=10, fontweight='bold')\n",
    "\n",
    "    for bar in bars2:\n",
    "        plt.text(bar.get_x() + bar.get_width()/2, bar.get_height(), \n",
    "                 f'{bar.get_height():.2f}', ha='center', va='bottom', fontsize=10, fontweight='bold')\n",
    "\n",
    "    plt.xlabel('Phase')\n",
    "    plt.ylabel('Mean Blood Pressure (mmHg)')\n",
    "    plt.title(f'Blood Pressure - User {selected_user}')\n",
    "    plt.xticks(rotation=45)\n",
    "    plt.legend()\n",
    "    plt.grid(axis='y', linestyle='--', alpha=0.7)\n",
    "    plt.show()\n",
    "\n",
    "# Create a dropdown widget for user selection\n",
    "user_dropdown = widgets.Dropdown(\n",
    "    options=list(bp_systolic_columns.keys()),\n",
    "    description='Select User:',\n",
    "    style={'description_width': 'initial'}\n",
    ")\n",
    "\n",
    "# Display the dropdown and make it interactive\n",
    "display(user_dropdown)\n",
    "widgets.interactive(analyze_user, selected_user=user_dropdown)\n"
   ]
  },
  {
   "cell_type": "markdown",
   "metadata": {},
   "source": [
    "###  **Interactive Scatter polt and Linear regression for Blood prussure(Systolic, Diastolic)**"
   ]
  },
  {
   "cell_type": "code",
   "execution_count": null,
   "metadata": {},
   "outputs": [],
   "source": [
    "# Ensure column names are clean\n",
    "df_filled.columns = df_filled.columns.str.strip()\n",
    "\n",
    "# Define Blood Pressure measurement columns (Systolic & Diastolic)\n",
    "bp_systolic_columns = {\n",
    "    'I': 'Blood-Pressure(systolic)(mmHg)-Z',\n",
    "    'II': 'Blood-Pressure(systolic)(mmHg)-R',\n",
    "    'III': 'Blood-Pressure(systolic)(mmHg)-O',\n",
    "    'IV': 'Blood-Pressure(systolic)(mmHg)-J'\n",
    "}\n",
    "\n",
    "bp_diastolic_columns = {\n",
    "    'I': 'Blood-Pressure(diastolic)(mmHg)-Z',\n",
    "    'II': 'Blood-Pressure(diastolic)(mmHg)-R',\n",
    "    'III': 'Blood-Pressure(diastolic)(mmHg)-O',\n",
    "    'IV': 'Blood-Pressure(diastolic)(mmHg)-J'\n",
    "}\n",
    "\n",
    "roman_labels = ['Ⅰ', 'Ⅱ', 'Ⅲ', 'Ⅳ']\n",
    "\n",
    "fig = go.Figure()\n",
    "\n",
    "# Creating dropdown options\n",
    "dropdown_options = []\n",
    "for i, (label, sys_col, dia_col) in enumerate(zip(roman_labels, bp_systolic_columns.values(), bp_diastolic_columns.values())):\n",
    "    sys_data = pd.to_numeric(df_filled[sys_col], errors='coerce').dropna()\n",
    "    dia_data = pd.to_numeric(df_filled[dia_col], errors='coerce').dropna()\n",
    "    aligned_index = df_filled.index[df_filled[sys_col].notna()]  # Keep only valid indices\n",
    "\n",
    "    # Linear regression for Systolic & Diastolic\n",
    "    if len(sys_data) > 1:\n",
    "        sys_slope, sys_intercept, _, _, _ = stats.linregress(aligned_index, sys_data)\n",
    "    else:\n",
    "        sys_slope, sys_intercept = 0, sys_data.mean() if not sys_data.empty else 0\n",
    "\n",
    "    if len(dia_data) > 1:\n",
    "        dia_slope, dia_intercept, _, _, _ = stats.linregress(aligned_index, dia_data)\n",
    "    else:\n",
    "        dia_slope, dia_intercept = 0, dia_data.mean() if not dia_data.empty else 0\n",
    "\n",
    "    # Scatter plot for Systolic Blood Pressure\n",
    "    fig.add_trace(go.Scatter(\n",
    "        x=df_filled.index, \n",
    "        y=sys_data, \n",
    "        mode='markers', \n",
    "        name=f'Systolic BP {label}',\n",
    "        marker=dict(size=6, opacity=0.7, color='blue'),\n",
    "        visible=(i == 0)\n",
    "    ))\n",
    "\n",
    "    # Regression line for Systolic Blood Pressure\n",
    "    fig.add_trace(go.Scatter(\n",
    "        x=df_filled.index, \n",
    "        y=sys_slope * df_filled.index + sys_intercept,\n",
    "        mode='lines',\n",
    "        name=f'Systolic BP Regression {label}',\n",
    "        line=dict(dash='dash', color='blue'),\n",
    "        visible=(i == 0)\n",
    "    ))\n",
    "\n",
    "    # Scatter plot for Diastolic Blood Pressure\n",
    "    fig.add_trace(go.Scatter(\n",
    "        x=df_filled.index, \n",
    "        y=dia_data, \n",
    "        mode='markers', \n",
    "        name=f'Diastolic BP {label}',\n",
    "        marker=dict(size=6, opacity=0.7, color='red'),\n",
    "        visible=(i == 0)\n",
    "    ))\n",
    "\n",
    "    # Regression line for Diastolic Blood Pressure\n",
    "    fig.add_trace(go.Scatter(\n",
    "        x=df_filled.index, \n",
    "        y=dia_slope * df_filled.index + dia_intercept,\n",
    "        mode='lines',\n",
    "        name=f'Diastolic BP Regression {label}',\n",
    "        line=dict(dash='dash', color='red'),\n",
    "        visible=(i == 0)\n",
    "    ))\n",
    "\n",
    "    dropdown_options.append(\n",
    "        dict(label=label,\n",
    "             method=\"update\",\n",
    "             args=[{\"visible\": [j // 4 == i for j in range(4 * len(roman_labels))]},\n",
    "                   {\"title\": f\"Blood Pressure Scatter Plot & Regression - {label}\"}])\n",
    "    )\n",
    "\n",
    "fig.update_layout(\n",
    "    title=\"Blood Pressure Scatter Plot\",\n",
    "    xaxis_title=\"Index (Time)\",\n",
    "    yaxis_title=\"Blood Pressure (mmHg)\",\n",
    "    updatemenus=[dict(buttons=dropdown_options, direction=\"down\", showactive=True)],\n",
    "    template=\"plotly_white\"\n",
    ")\n",
    "\n",
    "fig.show()\n"
   ]
  },
  {
   "cell_type": "markdown",
   "metadata": {},
   "source": [
    "### **Interactive Analyze_user for Blood Prussure (Systolic, Diastolic)**"
   ]
  },
  {
   "cell_type": "code",
   "execution_count": null,
   "metadata": {},
   "outputs": [],
   "source": [
    "import pandas as pd\n",
    "import numpy as np\n",
    "import scipy.stats as stats\n",
    "import ipywidgets as widgets\n",
    "from IPython.display import display\n",
    "\n",
    "# Ensure column names are clean\n",
    "df_filled.columns = df_filled.columns.str.strip()\n",
    "\n",
    "# Define Blood Pressure measurement columns (Systolic & Diastolic)\n",
    "bp_systolic_columns = {\n",
    "    'I': 'Blood-Pressure(systolic)(mmHg)-Z',\n",
    "    'II': 'Blood-Pressure(systolic)(mmHg)-R',\n",
    "    'III': 'Blood-Pressure(systolic)(mmHg)-O',\n",
    "    'IV': 'Blood-Pressure(systolic)(mmHg)-J'\n",
    "}\n",
    "\n",
    "bp_diastolic_columns = {\n",
    "    'I': 'Blood-Pressure(diastolic)(mmHg)-Z',\n",
    "    'II': 'Blood-Pressure(diastolic)(mmHg)-R',\n",
    "    'III': 'Blood-Pressure(diastolic)(mmHg)-O',\n",
    "    'IV': 'Blood-Pressure(diastolic)(mmHg)-J'\n",
    "}\n",
    "\n",
    "# Convert BP values to numeric\n",
    "for col in list(bp_systolic_columns.values()) + list(bp_diastolic_columns.values()):\n",
    "    df_filled[col] = pd.to_numeric(df_filled[col], errors='coerce')\n",
    "\n",
    "# Create a dropdown for selecting a participant\n",
    "dropdown = widgets.Dropdown(\n",
    "    options=['All Participants'] + list(bp_systolic_columns.keys()),\n",
    "    description='Select Participant:',\n",
    "    style={'description_width': 'initial'}\n",
    ")\n",
    "\n",
    "# Function to compute statistics\n",
    "def update_statistics(selected_participant):\n",
    "    if selected_participant == 'All Participants':\n",
    "        selected_systolic = list(bp_systolic_columns.values())\n",
    "        selected_diastolic = list(bp_diastolic_columns.values())\n",
    "    else:\n",
    "        selected_systolic = [bp_systolic_columns[selected_participant]]\n",
    "        selected_diastolic = [bp_diastolic_columns[selected_participant]]\n",
    "\n",
    "    if not selected_systolic or not selected_diastolic:\n",
    "        print(\"No data available for the selected participant.\")\n",
    "        return\n",
    "\n",
    "    # Compute Summary Statistics\n",
    "    systolic_stats = df_filled[selected_systolic].describe().T\n",
    "    diastolic_stats = df_filled[selected_diastolic].describe().T\n",
    "\n",
    "    # Normality Test (Shapiro-Wilk)\n",
    "    systolic_normality = {col: stats.shapiro(df_filled[col].dropna()).pvalue for col in selected_systolic}\n",
    "    diastolic_normality = {col: stats.shapiro(df_filled[col].dropna()).pvalue for col in selected_diastolic}\n",
    "\n",
    "    systolic_normality_df = pd.DataFrame({\n",
    "        \"Participant\": selected_systolic,\n",
    "        \"Shapiro-W p-value\": [systolic_normality[col] for col in selected_systolic]\n",
    "    })\n",
    "    \n",
    "    diastolic_normality_df = pd.DataFrame({\n",
    "        \"Participant\": selected_diastolic,\n",
    "        \"Shapiro-W p-value\": [diastolic_normality[col] for col in selected_diastolic]\n",
    "    })\n",
    "\n",
    "    # Homogeneity Test (Levene's Test)\n",
    "    if len(selected_systolic) > 1:\n",
    "        levene_test_systolic = stats.levene(*(df_filled[col].dropna() for col in selected_systolic))\n",
    "        homogeneity_p_value_systolic = levene_test_systolic.pvalue\n",
    "    else:\n",
    "        homogeneity_p_value_systolic = \"N/A (Only one participant selected)\"\n",
    "\n",
    "    if len(selected_diastolic) > 1:\n",
    "        levene_test_diastolic = stats.levene(*(df_filled[col].dropna() for col in selected_diastolic))\n",
    "        homogeneity_p_value_diastolic = levene_test_diastolic.pvalue\n",
    "    else:\n",
    "        homogeneity_p_value_diastolic = \"N/A (Only one participant selected)\"\n",
    "\n",
    "    # ANOVA Test\n",
    "    if len(selected_systolic) > 1:\n",
    "        anova_test_systolic = stats.f_oneway(*(df_filled[col].dropna() for col in selected_systolic))\n",
    "        anova_p_value_systolic = anova_test_systolic.pvalue\n",
    "    else:\n",
    "        anova_p_value_systolic = \"N/A (Only one participant selected)\"\n",
    "\n",
    "    if len(selected_diastolic) > 1:\n",
    "        anova_test_diastolic = stats.f_oneway(*(df_filled[col].dropna() for col in selected_diastolic))\n",
    "        anova_p_value_diastolic = anova_test_diastolic.pvalue\n",
    "    else:\n",
    "        anova_p_value_diastolic = \"N/A (Only one participant selected)\"\n",
    "\n",
    "    # Display Results\n",
    "    print(\"\\n📌 **Summary Statistics for Systolic Blood Pressure**\")\n",
    "    display(systolic_stats)\n",
    "    print(\"\\n📌 **Summary Statistics for Diastolic Blood Pressure**\")\n",
    "    display(diastolic_stats)\n",
    "\n",
    "    print(\"\\n📊 **Normality Test (Shapiro-Wilk p-values) for Systolic BP**\")\n",
    "    display(systolic_normality_df)\n",
    "    print(\"\\n📊 **Normality Test (Shapiro-Wilk p-values) for Diastolic BP**\")\n",
    "    display(diastolic_normality_df)\n",
    "\n",
    "    print(f\"\\n📈 **Levene's Test for Homogeneity of Variance (Systolic BP) p-value:** {homogeneity_p_value_systolic}\")\n",
    "    print(f\"📈 **Levene's Test for Homogeneity of Variance (Diastolic BP) p-value:** {homogeneity_p_value_diastolic}\")\n",
    "    \n",
    "    print(f\"\\n📊 **ANOVA Test for Mean Comparison (Systolic BP) p-value:** {anova_p_value_systolic}\")\n",
    "    print(f\"📊 **ANOVA Test for Mean Comparison (Diastolic BP) p-value:** {anova_p_value_diastolic}\")\n",
    "\n",
    "# Connect dropdown to function\n",
    "interactive_output = widgets.interactive(update_statistics, selected_participant=dropdown)\n",
    "\n",
    "# Display Dropdown and Results\n",
    "display(dropdown, interactive_output)\n"
   ]
  },
  {
   "cell_type": "markdown",
   "metadata": {},
   "source": [
    "---"
   ]
  },
  {
   "cell_type": "markdown",
   "metadata": {},
   "source": [
    "## **Section 5**\n",
    "### **Glucose**\n"
   ]
  },
  {
   "cell_type": "markdown",
   "metadata": {},
   "source": [
    "### **QQ plot for Glucose**"
   ]
  },
  {
   "cell_type": "code",
   "execution_count": null,
   "metadata": {},
   "outputs": [],
   "source": [
    "\n",
    "# Define column names for each metric\n",
    "Glucose_columns = ['Glucose(mmol/l)-Z', 'Glucose(mmol/l)-R', 'Glucose(mmol/l)-O', 'Glucose(mmol/l)-J']\n",
    "roman_labels = ['User Ⅰ', 'User Ⅱ', 'User Ⅲ', 'User Ⅳ']\n",
    "\n",
    "plt.figure(figsize=(12, 8))\n",
    "\n",
    "\n",
    "for i, (col, roman) in enumerate(zip(Glucose_columns, roman_labels), 1):\n",
    "    plt.subplot(2, 2, i) \n",
    "    stats.probplot(df_Glucose[col].dropna(), dist=\"norm\", plot=plt) \n",
    "    plt.title(f'QQ Plot for {roman}') \n",
    "\n",
    "plt.tight_layout()\n",
    "plt.show()\n",
    "\n",
    "\n"
   ]
  },
  {
   "cell_type": "markdown",
   "metadata": {},
   "source": [
    "### **Interactive QQ plot for Glucose**"
   ]
  },
  {
   "cell_type": "code",
   "execution_count": null,
   "metadata": {},
   "outputs": [],
   "source": [
    "# Define the column names for Glucose(mmol/l)\n",
    "Glucose_columns = ['Glucose(mmol/l)-Z', 'Glucose(mmol/l)-R', 'Glucose(mmol/l)-O', 'Glucose(mmol/l)-J']\n",
    "roman_labels = ['User Ⅰ', 'User Ⅱ', 'User Ⅲ', 'User Ⅳ']\n",
    "\n",
    "def create_qq_plot(columns, title):\n",
    "    fig = go.Figure()\n",
    "\n",
    "    for col, roman in zip(columns, roman_labels):\n",
    "        data = pd.to_numeric(df_Glucose[col], errors='coerce').dropna()  # Ensure numeric values only\n",
    "        \n",
    "        if data.empty:\n",
    "            print(f\"Warning: No valid numeric data for {roman}, skipping.\")\n",
    "            continue  # Skip if no valid data\n",
    "        \n",
    "        # Perform Q-Q plot calculation\n",
    "        osm, osr = stats.probplot(data, dist=\"norm\")[0]  # Extract only the quantiles\n",
    "\n",
    "        # Add scatter plot for each user\n",
    "        fig.add_trace(go.Scatter(\n",
    "            x=osm, \n",
    "            y=osr, \n",
    "            mode='markers', \n",
    "            name=f'QQ Plot for {roman}',\n",
    "            marker=dict(size=6, opacity=0.7)\n",
    "        ))\n",
    "\n",
    "    # Add reference (y=x) line\n",
    "    if fig.data:\n",
    "        min_val = min(fig.data[0].x)\n",
    "        max_val = max(fig.data[0].x)\n",
    "    else:\n",
    "        min_val, max_val = 0, 1\n",
    "\n",
    "    fig.add_trace(go.Scatter(\n",
    "        x=[min_val, max_val], \n",
    "        y=[min_val, max_val], \n",
    "        mode='lines', \n",
    "        name='Reference Line',\n",
    "        line=dict(color='red', dash='dash')\n",
    "    ))\n",
    "\n",
    "    fig.update_layout(\n",
    "        title=title,\n",
    "        xaxis_title=\"Theoretical Quantiles\",\n",
    "        yaxis_title=\"Ordered Values\",\n",
    "        template=\"plotly_white\"\n",
    "    )\n",
    "\n",
    "    fig.show()\n",
    "\n",
    "# Generate QQ plots for metric\n",
    "\n",
    "create_qq_plot(Glucose_columns, \"Interactive QQ Plot for Glucose(mmol/l)\")\n"
   ]
  },
  {
   "cell_type": "code",
   "execution_count": null,
   "metadata": {},
   "outputs": [],
   "source": [
    "df_Glucose.head()"
   ]
  },
  {
   "cell_type": "code",
   "execution_count": null,
   "metadata": {},
   "outputs": [],
   "source": [
    "df_Glucose.columns"
   ]
  },
  {
   "cell_type": "markdown",
   "metadata": {},
   "source": [
    "### **Bar Chart for Average of Glucose**"
   ]
  },
  {
   "cell_type": "code",
   "execution_count": null,
   "metadata": {},
   "outputs": [],
   "source": [
    "# Define columns and labels\n",
    "Glucose_columns = ['Glucose(mmol/l)-Z', 'Glucose(mmol/l)-R', 'Glucose(mmol/l)-O', 'Glucose(mmol/l)-J']\n",
    "roman_labels = ['Ⅰ', 'Ⅱ', 'Ⅲ', 'Ⅳ']\n",
    "# Convert to numeric to avoid errors\n",
    "for col in Glucose_columns:\n",
    "    df_Glucose[col] = pd.to_numeric(df_Glucose[col], errors='coerce')\n",
    "\n",
    "# Calculate means\n",
    "Glucose_means = [df_Glucose[col].mean() for col in Glucose_columns]\n",
    "\n",
    "# Create DataFrames for plotting\n",
    "df_Glucose_avg = pd.DataFrame({'Person': roman_labels, 'Glucose_level(mmol/l)': Glucose_means})\n",
    "\n",
    "# Interactive bar plot for Heart-rate\n",
    "fig2 = px.bar(df_Glucose_avg, x='Person', y='Glucose_level(mmol/l)', text='Glucose_level(mmol/l)',\n",
    "              title='Average Glucose(mmol/l) per Person', template=\"plotly_dark\",\n",
    "              color='Glucose_level(mmol/l)', color_continuous_scale='purples')\n",
    "\n",
    "fig2.update_traces(texttemplate='%{text:.2f}', textposition='outside')\n",
    "fig2.show()\n"
   ]
  },
  {
   "cell_type": "markdown",
   "metadata": {},
   "source": [
    "### **Distribution for Glucose**"
   ]
  },
  {
   "cell_type": "code",
   "execution_count": null,
   "metadata": {},
   "outputs": [],
   "source": [
    "# Define columns and labels\n",
    "Glucose_columns = ['Glucose(mmol/l)-Z', 'Glucose(mmol/l)-R', 'Glucose(mmol/l)-O', 'Glucose(mmol/l)-J']\n",
    "roman_labels = ['Ⅰ', 'Ⅱ', 'Ⅲ', 'Ⅳ']\n",
    "# Convert to numeric to avoid errors\n",
    "for col in Glucose_columns:\n",
    "    df_Glucose[col] = pd.to_numeric(df_Glucose[col], errors='coerce')\n",
    "\n",
    "\n",
    "# 🔵 \n",
    "plt.figure(figsize=(12, 8))\n",
    "for i, (col, roman) in enumerate(zip(Glucose_columns, roman_labels), 1):\n",
    "    plt.subplot(2, 2, i)\n",
    "    sns.histplot(df_Glucose[col], kde=True, bins=15, color='blue')\n",
    "    plt.title(f'Distribution of Glucose - {roman}')\n",
    "    plt.xlabel('Glucose(mmol/l))')\n",
    "    plt.ylabel('Frequency')\n",
    "\n",
    "plt.tight_layout()\n",
    "plt.show()\n",
    "\n"
   ]
  },
  {
   "cell_type": "markdown",
   "metadata": {},
   "source": [
    "### **Box Plot for Glucose**"
   ]
  },
  {
   "cell_type": "code",
   "execution_count": null,
   "metadata": {},
   "outputs": [],
   "source": [
    "# Set figure size\n",
    "plt.figure(figsize=(10, 6))\n",
    "Glucose_columns = ['Glucose(mmol/l)-Z', 'Glucose(mmol/l)-R', 'Glucose(mmol/l)-O', 'Glucose(mmol/l)-J']\n",
    "# Create a box plot for each weight column\n",
    "sns.boxplot(data=df_Glucose[Glucose_columns])\n",
    "\n",
    "# Change x-axis labels to Greek numerals\n",
    "plt.xticks(ticks=range(4), labels=roman_labels)\n",
    "\n",
    "# Add title and labels\n",
    "plt.title(\"Box Plot of Glucose Variables\")\n",
    "plt.ylabel(\"Glucose\")\n",
    "\n",
    "# Show the plot\n",
    "plt.show()"
   ]
  },
  {
   "cell_type": "code",
   "execution_count": null,
   "metadata": {},
   "outputs": [],
   "source": [
    "# Convert Date column to datetime format\n",
    "df_Glucose['Date'] = pd.to_datetime(df_Glucose['Date'], errors='coerce')\n",
    "\n",
    "# Select first 5 unique dates\n",
    "unique_dates = df_Glucose['Date'].dropna().unique()[:5]  \n",
    "df_Glucose_filtered = df_Glucose[df_Glucose['Date'].isin(unique_dates)].dropna()  # Filter DataFrame & drop NaNs\n",
    "\n",
    "# Extract only 5-time points\n",
    "date_column = df_Glucose_filtered['Date']\n",
    "\n",
    "Glucose_Z = pd.to_numeric(df_Glucose_filtered['Glucose(mmol/l)-Z'], errors='coerce')\n",
    "Glucose_R = pd.to_numeric(df_Glucose_filtered['Glucose(mmol/l)-R'], errors='coerce')\n",
    "Glucose_O = pd.to_numeric(df_Glucose_filtered['Glucose(mmol/l)-O'], errors='coerce')\n",
    "Glucose_J = pd.to_numeric(df_Glucose_filtered['Glucose(mmol/l)-J'], errors='coerce')\n",
    "\n",
    "#  **Plot Line Chart for Only 5 Dates**\n",
    "plt.figure(figsize=(12, 6))\n",
    "plt.plot(date_column, Glucose_Z, label='Participant I', marker='o')\n",
    "plt.plot(date_column, Glucose_R, label='Participant II', marker='o')\n",
    "plt.plot(date_column, Glucose_O, label='Participant III', marker='o')\n",
    "plt.plot(date_column, Glucose_J, label='Participant IV', marker='o')\n",
    "\n",
    "# Customize plot\n",
    "plt.title('Glucose Changes During Different Supplement Doses', fontsize=14)\n",
    "plt.xlabel('Date', fontsize=12)\n",
    "plt.ylabel('Glucose (mmol/l)', fontsize=12)\n",
    "plt.xticks(date_column, date_column.dt.strftime('%Y-%m-%d'), rotation=45)  # ✅ Format x-axis properly\n",
    "plt.legend()\n",
    "plt.grid(True, alpha=0.3)\n",
    "plt.show()\n"
   ]
  },
  {
   "cell_type": "code",
   "execution_count": null,
   "metadata": {},
   "outputs": [],
   "source": [
    "import matplotlib.pyplot as plt\n",
    "import numpy as np\n",
    "\n",
    "# Mean glucose levels for 4 participants in different test phases\n",
    "phases = [\"Baseline-Test\", \"The First_Test (HalfDose)\", \"The Second_Test (fullDose)\", \n",
    "          \"The Second_Test (HalfDose)\", \"The Second_Test (FullDose)\"]\n",
    "\n",
    "glucose_levels = {\n",
    "    \"I\": [4.5, 6.2, 5.8, 5.9, 5.2],\n",
    "    \"II\": [4.8, 4.3, 4.1, 5.7, 5.1],\n",
    "    \"III\": [4.4, 5.0, 4.5, 5.0, 6.1],\n",
    "    \"IV\": [3.9, 5.5, 4.5, 5.8, 4.9]\n",
    "}\n",
    "\n",
    "x = np.arange(len(phases))  # Positions for X-axis labels\n",
    "width = 0.2  # Width of each bar\n",
    "\n",
    "fig, ax = plt.subplots(figsize=(12, 6))\n",
    "\n",
    "# Plot bar chart for each participant\n",
    "for i, (participant, values) in enumerate(glucose_levels.items()):\n",
    "    ax.bar(x + i * width, values, width, label=participant)\n",
    "\n",
    "# Set labels and title\n",
    "ax.set_xlabel(\"Phase\")\n",
    "ax.set_ylabel(\"Mean Glucose (mmol/l)\")\n",
    "ax.set_title(\"Mean Glucose Levels by Test Phase and Participant\")\n",
    "\n",
    "# Set X-axis tick positions and labels\n",
    "ax.set_xticks(x + width * 1.5)\n",
    "ax.set_xticklabels(phases, rotation=25, ha=\"right\")\n",
    "\n",
    "# Add legend to differentiate participants\n",
    "ax.legend(title=\"Participants\")\n",
    "\n",
    "# Display the plot\n",
    "plt.show()\n"
   ]
  },
  {
   "cell_type": "markdown",
   "metadata": {},
   "source": [
    "----"
   ]
  },
  {
   "cell_type": "markdown",
   "metadata": {},
   "source": [
    "### **Interactive Dashboard for Glucose parameter**\n",
    "### **Interactive Scatter Plot for Glucose change**"
   ]
  },
  {
   "cell_type": "code",
   "execution_count": null,
   "metadata": {},
   "outputs": [],
   "source": [
    "# Define column names for Glucose\n",
    "Glucose_columns = ['Glucose(mmol/l)-Z', 'Glucose(mmol/l)-R', 'Glucose(mmol/l)-O', 'Glucose(mmol/l)-J']\n",
    "roman_labels = ['UserⅠ', 'UserⅡ', 'UserⅢ', 'UserⅣ']\n",
    "\n",
    "# Extract unique time points (only 5)\n",
    "date_column = df_Glucose['Date'][:5]  \n",
    "\n",
    "fig = go.Figure()\n",
    "summary_stats = []\n",
    "dropdown_options = []\n",
    "\n",
    "for i, (Glucose_col, roman) in enumerate(zip(Glucose_columns, roman_labels)):\n",
    "    # Extract relevant Glucose data\n",
    "    Glucose_data = pd.to_numeric(df_Glucose[Glucose_col], errors='coerce').dropna()\n",
    "    aligned_dates = df_Glucose.loc[df_Glucose[Glucose_col].notna(), 'Date'].unique()[:5]  # Keep only valid dates\n",
    "\n",
    "    # Linear regression (only if enough data)\n",
    "    if len(Glucose_data) > 1:\n",
    "        aligned_index = range(len(aligned_dates))  # Reindex for regression\n",
    "        Glucose_slope, Glucose_intercept, _, _, _ = stats.linregress(aligned_index, Glucose_data[:5])\n",
    "    else:\n",
    "        Glucose_slope, Glucose_intercept = 0, Glucose_data.mean() if not Glucose_data.empty else 0\n",
    "\n",
    "    # Summary Statistics\n",
    "    summary_stats.append(\n",
    "        pd.DataFrame({\n",
    "            \"Metric\": [\"Mean\", \"Std Dev\", \"Skewness\", \"Kurtosis\", \"Normality Test p-value\"],\n",
    "            \"Glucose (mmol/l)\": [Glucose_data.mean(), Glucose_data.std(), Glucose_data.skew(), \n",
    "                                 Glucose_data.kurtosis(), \n",
    "                                 stats.normaltest(Glucose_data).pvalue if len(Glucose_data) > 2 else None]\n",
    "        })\n",
    "    )\n",
    "\n",
    "    # Scatter plot for Glucose (only 5 time points)\n",
    "    fig.add_trace(go.Scatter(\n",
    "        x=aligned_dates, \n",
    "        y=Glucose_data[:5],  \n",
    "        mode='markers', \n",
    "        name=f'Glucose {roman}',\n",
    "        marker=dict(size=8, opacity=0.7, color='blue'),\n",
    "        visible=(i == 0)  # Only the first user is visible by default\n",
    "    ))\n",
    "\n",
    "    # Regression line for Glucose (only 5 points)\n",
    "    fig.add_trace(go.Scatter(\n",
    "        x=aligned_dates, \n",
    "        y=[Glucose_slope * x + Glucose_intercept for x in range(len(aligned_dates))],\n",
    "        mode='lines',\n",
    "        name=f'Glucose Regression {roman}',\n",
    "        line=dict(dash='dash', color='blue'),\n",
    "        visible=(i == 0)\n",
    "    ))\n",
    "\n",
    "    dropdown_options.append(\n",
    "        dict(label=roman,\n",
    "             method=\"update\",\n",
    "             args=[{\"visible\": [j // 2 == i for j in range(2 * len(roman_labels))]},\n",
    "                   {\"title\": f\"Scatter Plot & Regression - {roman}\"}])\n",
    "    )\n",
    "\n",
    "# Update figure layout\n",
    "fig.update_layout(\n",
    "    title=\"Scatter Plot for Glucose(mmol/l)\",\n",
    "    xaxis_title=\"Date\",\n",
    "    yaxis_title=\"Glucose (mmol/l)\",\n",
    "    xaxis=dict(tickvals=date_column, ticktext=date_column),  # Show only 5 dates\n",
    "    updatemenus=[dict(buttons=dropdown_options, direction=\"down\", showactive=True)],\n",
    "    template=\"plotly_white\"\n",
    ")\n",
    "\n",
    "fig.show()\n",
    "\n",
    "# **Interactive Summary Table**\n",
    "# Dropdown Widget\n",
    "dropdown = widgets.Dropdown(\n",
    "    options=list(zip(roman_labels, range(len(roman_labels)))),\n",
    "    description='User:',\n",
    "    style={'description_width': 'initial'}\n",
    ")\n",
    "\n",
    "# Output Widget\n",
    "out = Output()\n",
    "\n",
    "# Function to update summary table\n",
    "def update_summary(change):\n",
    "    with out:\n",
    "        out.clear_output(wait=True)\n",
    "        display(summary_stats[change.new])\n",
    "\n",
    "# Connect dropdown to function\n",
    "dropdown.observe(update_summary, names='value')\n",
    "\n",
    "# Show initial table\n",
    "with out:\n",
    "    display(summary_stats[0])\n",
    "\n",
    "# Display Dropdown + Table\n",
    "display(VBox([dropdown, out]))\n"
   ]
  },
  {
   "cell_type": "markdown",
   "metadata": {},
   "source": []
  },
  {
   "cell_type": "code",
   "execution_count": null,
   "metadata": {},
   "outputs": [],
   "source": [
    "# Ensure Date column is in datetime format\n",
    "df_Glucose['Date'] = pd.to_datetime(df_Glucose['Date'], errors='coerce')\n",
    "\n",
    "# Select first 5 unique dates\n",
    "unique_dates = df_Glucose['Date'].dropna().unique()[:5]  \n",
    "df_Glucose_filtered = df_Glucose[df_Glucose['Date'].isin(unique_dates)].dropna()  # Filter DataFrame & drop NaNs\n",
    "\n",
    "# Extract only 5-time points\n",
    "date_column = df_Glucose_filtered['Date']\n",
    "\n",
    "# Define Glucose measurement columns\n",
    "glucose_columns = {\n",
    "    'I': 'Glucose(mmol/l)-Z',\n",
    "    'II': 'Glucose(mmol/l)-R',\n",
    "    'III': 'Glucose(mmol/l)-O',\n",
    "    'IV': 'Glucose(mmol/l)-J'\n",
    "}\n",
    "\n",
    "# Convert glucose values to numeric\n",
    "for col in glucose_columns.values():\n",
    "    df_Glucose_filtered[col] = pd.to_numeric(df_Glucose_filtered[col], errors='coerce')\n",
    "\n",
    "# Create dropdown widget for selecting a participant\n",
    "user_dropdown = widgets.Dropdown(\n",
    "    options=list(glucose_columns.keys()),\n",
    "    description='Select User:',\n",
    "    style={'description_width': 'initial'}\n",
    ")\n",
    "\n",
    "# Function to plot glucose level over time for selected user\n",
    "def plot_glucose_over_time(selected_user):\n",
    "    glucose_col = glucose_columns[selected_user]\n",
    "\n",
    "    # Extract user-specific glucose data\n",
    "    user_data = df_Glucose_filtered[['Date', glucose_col]].dropna()\n",
    "    user_data.rename(columns={glucose_col: 'Glucose'}, inplace=True)\n",
    "\n",
    "    # Create a line plot\n",
    "    plt.figure(figsize=(10, 5))\n",
    "    plt.plot(user_data['Date'], user_data['Glucose'], marker='o', linestyle='-', color='blue', label=f'Glucose - {selected_user}')\n",
    "\n",
    "    # Customize plot appearance\n",
    "    plt.xlabel('Date')\n",
    "    plt.ylabel('Glucose (mmol/l)')\n",
    "    plt.title(f'Glucose Level Over Time - User {selected_user}')\n",
    "    plt.xticks(user_data['Date'], user_data['Date'].dt.strftime('%Y-%m-%d'), rotation=45)\n",
    "    plt.legend()\n",
    "    plt.grid(True, linestyle=\"--\", alpha=0.5)\n",
    "\n",
    "    # Show the plot\n",
    "    plt.show()\n",
    "\n",
    "# Display the dropdown and make it interactive\n",
    "display(user_dropdown)\n",
    "widgets.interactive(plot_glucose_over_time, selected_user=user_dropdown)\n"
   ]
  },
  {
   "cell_type": "code",
   "execution_count": null,
   "metadata": {},
   "outputs": [],
   "source": [
    "# Ensure column names are clean\n",
    "df_Glucose.columns = df_Glucose.columns.str.strip()\n",
    "\n",
    "# Define glucose measurement columns\n",
    "glucose_columns = {\n",
    "    'I': 'Glucose(mmol/l)-Z',\n",
    "    'II': 'Glucose(mmol/l)-R',\n",
    "    'III': 'Glucose(mmol/l)-O',\n",
    "    'IV': 'Glucose(mmol/l)-J'\n",
    "}\n",
    "\n",
    "# Create dropdown widget for selecting a participant\n",
    "user_dropdown = widgets.Dropdown(\n",
    "    options=list(glucose_columns.keys()),\n",
    "    description='Select User:',\n",
    "    style={'description_width': 'initial'}\n",
    ")\n",
    "\n",
    "# Function to plot a bar chart for the selected user\n",
    "def plot_glucose_bar_chart(selected_user):\n",
    "    glucose_col = glucose_columns[selected_user]\n",
    "\n",
    "    # Filter and clean dataset\n",
    "    user_data = df_Glucose[['Test Type', glucose_col]].dropna()\n",
    "    user_data.rename(columns={glucose_col: 'Glucose', 'Test Type': 'Phase'}, inplace=True)\n",
    "    user_data['Phase'] = user_data['Phase'].str.strip()\n",
    "\n",
    "    # Calculate mean glucose values per phase\n",
    "    mean_glucose = user_data.groupby('Phase')['Glucose'].mean()\n",
    "\n",
    "    # Create a bar chart\n",
    "    plt.figure(figsize=(8, 5))\n",
    "    bars = plt.bar(mean_glucose.index, mean_glucose.values, color=['blue', 'green', 'orange', 'red'])\n",
    "\n",
    "    # Add numerical values on top of bars\n",
    "    for bar in bars:\n",
    "        plt.text(bar.get_x() + bar.get_width()/2, bar.get_height(), \n",
    "                 f'{bar.get_height():.2f}', ha='center', va='bottom', fontsize=10, fontweight='bold')\n",
    "\n",
    "    plt.xlabel('Phase')\n",
    "    plt.ylabel('Mean Glucose (mmol/L)')\n",
    "    plt.title(f'Glucose Levels - User {selected_user}')\n",
    "    plt.xticks(rotation=45)\n",
    "    plt.grid(axis='y', linestyle='--', alpha=0.7)\n",
    "    plt.show()\n",
    "\n",
    "# Display the dropdown and make it interactive\n",
    "display(user_dropdown)\n",
    "widgets.interactive(plot_glucose_bar_chart, selected_user=user_dropdown)\n",
    "\n",
    "\n"
   ]
  },
  {
   "cell_type": "markdown",
   "metadata": {},
   "source": [
    "### **Interactive Dashboard of Statistical Analysis for Glucose**"
   ]
  },
  {
   "cell_type": "code",
   "execution_count": null,
   "metadata": {},
   "outputs": [],
   "source": [
    "# Ensure column names are clean\n",
    "df_Glucose.columns = df_Glucose.columns.str.strip()\n",
    "\n",
    "# Define Glucose measurement columns\n",
    "glucose_columns = {\n",
    "    'I': 'Glucose(mmol/l)-Z',\n",
    "    'II': 'Glucose(mmol/l)-R',\n",
    "    'III': 'Glucose(mmol/l)-O',\n",
    "    'IV': 'Glucose(mmol/l)-J'\n",
    "}\n",
    "\n",
    "# Convert Glucose values to numeric\n",
    "for col in glucose_columns.values():\n",
    "    df_Glucose[col] = pd.to_numeric(df_Glucose[col], errors='coerce')\n",
    "\n",
    "# Create a dropdown for selecting a participant\n",
    "dropdown = widgets.Dropdown(\n",
    "    options=['All Participants'] + list(glucose_columns.keys()),\n",
    "    description='Select Participant:',\n",
    "    style={'description_width': 'initial'}\n",
    ")\n",
    "\n",
    "# Function to compute statistics\n",
    "def update_statistics(selected_participant):\n",
    "    if selected_participant == 'All Participants':\n",
    "        selected_columns = list(glucose_columns.values())\n",
    "    else:\n",
    "        selected_columns = [glucose_columns[selected_participant]]\n",
    "\n",
    "    if not selected_columns:\n",
    "        print(\"No data available for the selected participant.\")\n",
    "        return\n",
    "\n",
    "    # Compute Summary Statistics\n",
    "    summary_stats = df_Glucose[selected_columns].describe().T\n",
    "\n",
    "    # Normality Test (Shapiro-Wilk)\n",
    "    normality_results = {col: stats.shapiro(df_Glucose[col].dropna()).pvalue for col in selected_columns}\n",
    "    normality_df = pd.DataFrame({\n",
    "        \"Participant\": selected_columns,\n",
    "        \"Shapiro-W p-value\": [normality_results[col] for col in selected_columns]\n",
    "    })\n",
    "\n",
    "    # Homogeneity Test (Levene's Test)\n",
    "    if len(selected_columns) > 1:\n",
    "        levene_test = stats.levene(*(df_Glucose[col].dropna() for col in selected_columns))\n",
    "        homogeneity_p_value = levene_test.pvalue\n",
    "    else:\n",
    "        homogeneity_p_value = \"N/A (Only one participant selected)\"\n",
    "\n",
    "    # ANOVA Test\n",
    "    if len(selected_columns) > 1:\n",
    "        anova_test = stats.f_oneway(*(df_Glucose[col].dropna() for col in selected_columns))\n",
    "        anova_p_value = anova_test.pvalue\n",
    "    else:\n",
    "        anova_p_value = \"N/A (Only one participant selected)\"\n",
    "\n",
    "    # Display Results\n",
    "    print(\"\\n📌 **Summary Statistics for Glucose Levels**\")\n",
    "    display(summary_stats)\n",
    "\n",
    "    print(\"\\n📊 **Normality Test (Shapiro-Wilk p-values) for Glucose**\")\n",
    "    display(normality_df)\n",
    "\n",
    "    print(f\"\\n📈 **Levene's Test for Homogeneity of Variance (Glucose) p-value:** {homogeneity_p_value}\")\n",
    "    print(f\"\\n📊 **ANOVA Test for Mean Comparison (Glucose) p-value:** {anova_p_value}\")\n",
    "\n",
    "# Connect dropdown to function\n",
    "interactive_output = widgets.interactive(update_statistics, selected_participant=dropdown)\n",
    "\n",
    "# Display Dropdown and Results\n",
    "display(dropdown, interactive_output)\n"
   ]
  }
 ],
 "metadata": {
  "kernelspec": {
   "display_name": "Python 3",
   "language": "python",
   "name": "python3"
  },
  "language_info": {
   "codemirror_mode": {
    "name": "ipython",
    "version": 3
   },
   "file_extension": ".py",
   "mimetype": "text/x-python",
   "name": "python",
   "nbconvert_exporter": "python",
   "pygments_lexer": "ipython3",
   "version": "3.11.9"
  }
 },
 "nbformat": 4,
 "nbformat_minor": 2
}
