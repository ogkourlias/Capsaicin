{
 "cells": [
  {
   "cell_type": "code",
   "execution_count": null,
   "metadata": {},
   "outputs": [],
   "source": [
    "from functools import reduce\n",
    "import pandas as pd\n",
    "from bokeh.plotting import figure, show, output_notebook\n",
    "import panel as pn\n",
    "import bokeh.models as bm\n",
    "from bokeh.models.widgets import DataTable, TableColumn\n",
    "from bokeh.models import HoverTool\n",
    "from bokeh.io import curdoc\n",
    "from bokeh.palettes import Colorblind\n",
    "import itertools\n",
    "\n",
    "path = \"/students/2024-2025/master/chili/output/kraken2/merged\"\n",
    "dfs = []\n",
    "rank_list = [\"superkingdom\", \"kingdom\", \"phylum\", \"class\", \"order\", \"family\", \"genus\", \"species\"]\n",
    "\n",
    "for barcode in range(1,21):\n",
    "    df = pd.read_csv(f\"{path}/barcode{str(barcode).zfill(2)}.tsv\", sep=\"\\t\", index_col=False,  usecols=[1, 2])\n",
    " \n",
    "    df = df.rename(columns={\"fragments\": f\"fragments{barcode}\"})\n",
    "\n",
    "    eukaryote_filter = df[\"tax\"].str.contains(\"d__Eukaryota\")\n",
    "    df = df[~eukaryote_filter]\n",
    "\n",
    "    ratio_dict = {\"d__Archaea\" : max(df[df[\"tax\"] == \"d__Archaea\"][f\"fragments{barcode}\"]),\n",
    "                  \"d__Bacteria\" : max(df[df[\"tax\"] == \"d__Bacteria\"][f\"fragments{barcode}\"]),\n",
    "                  \"d__Viruses\" : max(df[df[\"tax\"] == \"d__Viruses\"][f\"fragments{barcode}\"])}\n",
    "    \n",
    "    #df[f\"ratio{barcode}\"] = (round(df[f\"fragments{barcode}\"] / ratio_dict[f\"{df['tax'].split('|')[0]}\"], 10))\n",
    "    # print(df[\"fragments1\"])\n",
    "    df[f\"ratio{barcode}\"] = df.apply(lambda row: (round(row[f\"fragments{barcode}\"] / ratio_dict[f\"{row['tax'].split('|')[0]}\"], 10)), axis=1)\n",
    "    dfs.append(df)  \n",
    "\n",
    "merged_df = reduce(lambda df1,df2: pd.merge(df1,df2,on=\"tax\", how=\"outer\"), dfs)\n",
    "merged_df = merged_df.sort_values(\"tax\")\n",
    "merged_df = merged_df.fillna(0)\n",
    "merged_df[rank_list] = merged_df['tax'].str.split('|', expand=True)\n",
    "merged_df = merged_df.set_index(\"tax\")\n",
    "merged_df.to_csv(f\"{path}/merged-all.tsv\", sep=\"\\t\", index=False)\n",
    "\n"
   ]
  },
  {
   "cell_type": "code",
   "execution_count": null,
   "metadata": {},
   "outputs": [],
   "source": [
    "# p1 = [1,5,9,13,17]\n",
    "# p2 = [2,6,10,14,18]\n",
    "# p3 = [3,7,11,15,19]\n",
    "# p4 = [4,8,12,16,20]\n",
    "\n",
    "ratio_cols = [[] for _ in range(0,4)]\n",
    "\n",
    "for i in range(1,21):\n",
    "    rem = i % 4\n",
    "    if rem == 0:\n",
    "        ratio_cols[3].append(f\"ratio{i}\")\n",
    "    if rem == 1:\n",
    "        ratio_cols[0].append(f\"ratio{i}\")\n",
    "    if rem == 2:\n",
    "        ratio_cols[1].append(f\"ratio{i}\")\n",
    "    if rem == 3:\n",
    "        ratio_cols[2].append(f\"ratio{i}\")\n",
    "\n",
    "def get_delta(df, cols):\n",
    "    for part, part_cols in enumerate(cols):\n",
    "        delta_cols = []\n",
    "        for i in range(0, len(part_cols)-1):\n",
    "            delta_col = f\"delta_{part_cols[i]}_{part_cols[i+1]}\"\n",
    "            df[delta_col] = abs(df[part_cols[i]] - df[part_cols[i+1]])\n",
    "            delta_cols.append(delta_col)\n",
    "        df[f\"max_delta{part}\"] = df[delta_cols].max(axis=1)\n",
    "\n",
    "get_delta(merged_df, ratio_cols)\n",
    "    "
   ]
  },
  {
   "cell_type": "code",
   "execution_count": null,
   "metadata": {},
   "outputs": [],
   "source": [
    "# merged_df[[\"delta_ratio3_ratio7\",\t\"delta_ratio7_ratio11\", \"ratio3\", \"ratio7\", \"ratio11\"]].to_csv(\"test_ratios.csv\", sep=\"\\t\", index=False)\n",
    "merged_df[\"max_delta_all\"] = merged_df[[\"max_delta0\", \"max_delta1\", \"max_delta2\", \"max_delta3\"]].max(axis=1)"
   ]
  },
  {
   "cell_type": "code",
   "execution_count": null,
   "metadata": {},
   "outputs": [],
   "source": [
    "merged_df[\"max_delta_all\"].sort_values(ascending=False)\n"
   ]
  },
  {
   "cell_type": "code",
   "execution_count": null,
   "metadata": {},
   "outputs": [],
   "source": [
    "# # Family or genus\n",
    "# superkingdom, kingdom, phylum, class, order, family, genus, species\n",
    "merged_df.index = pd.MultiIndex.from_tuples(merged_df.index.str.split(\"|\").tolist())\n",
    "merged_df.index = merged_df.index.set_names(rank_list)\n",
    "merged_df.to_csv(f\"test.tsv\", sep=\"\\t\")\n"
   ]
  },
  {
   "cell_type": "code",
   "execution_count": null,
   "metadata": {},
   "outputs": [],
   "source": [
    "pn.extension()\n",
    "\n",
    "selectors = {\n",
    "    0: pn.widgets.Select(\n",
    "        name=\"super_kingdom\", \n",
    "        options=merged_df.index.get_level_values(0).unique().tolist()\n",
    "    )\n",
    "}\n",
    "\n",
    "source = bm.ColumnDataSource(pd.DataFrame(columns=merged_df.index.names))\n",
    "plot = figure(title=\"Line Chart\", x_axis_label=\"Sample\", y_axis_label=\"Micro-organism ratio\", width=800, height=400)\n",
    "plot.add_tools(HoverTool(tooltips=[(\"Sample\", \"$x\"), (\"Ratio\", \"$y\")]))\n",
    "\n",
    "def update_table(event):\n",
    "    select_len = len(selectors)\n",
    "    filtered_df = merged_df[merged_df.index.get_level_values(select_len - 1) == selectors[select_len - 1].value]\n",
    "    source.data = bm.ColumnDataSource.from_df(filtered_df)\n",
    "    \n",
    "    flat_ratios = rank_list[select_len:] + [\"max_delta_all\"] + list(itertools.chain.from_iterable(ratio_cols))\n",
    "    data_table.columns = [TableColumn(field=col, title=col) for col in flat_ratios]\n",
    "    \n",
    "    if select_len < len(merged_df.index.levels):\n",
    "        new_selector = pn.widgets.Select(\n",
    "            name=filtered_df.index.names[select_len],\n",
    "            options=filtered_df.index.get_level_values(select_len).unique().tolist()\n",
    "        )\n",
    "        selectors[select_len] = new_selector\n",
    "        new_selector.param.watch(update_table, 'value')\n",
    "        selectors_row.append(new_selector)\n",
    "\n",
    "def update_plot(attr, old, new):\n",
    "    plot.renderers = []\n",
    "    if not new:\n",
    "        return\n",
    "    \n",
    "    selected_index = new[0]\n",
    "    selected_row = source.to_df().iloc[selected_index]\n",
    "    \n",
    "    for idx, cols in enumerate(ratio_cols):\n",
    "        plot.line(\n",
    "            [1, 2, 3, 4, 5], \n",
    "            selected_row[cols], \n",
    "            line_width=2, \n",
    "            legend_label=str(idx), \n",
    "            color=Colorblind.get(5)[idx]\n",
    "        )\n",
    "\n",
    "source.selected.on_change(\"indices\", update_plot)\n",
    "for selector in selectors.values():\n",
    "    selector.param.watch(update_table, 'value')\n",
    "\n",
    "columns = [TableColumn(field=col, title=col) for col in merged_df.index.names]\n",
    "data_table = DataTable(source=source, columns=columns, width=1880)\n",
    "\n",
    "selectors_row = pn.Row(*selectors.values())\n",
    "layout = pn.Column(selectors_row, data_table, plot)\n",
    "\n",
    "served = pn.serve(layout)\n"
   ]
  },
  {
   "cell_type": "code",
   "execution_count": null,
   "metadata": {},
   "outputs": [],
   "source": [
    "selectors.get(0).value"
   ]
  },
  {
   "cell_type": "code",
   "execution_count": null,
   "metadata": {},
   "outputs": [],
   "source": [
    "merged_df.index"
   ]
  },
  {
   "cell_type": "code",
   "execution_count": null,
   "metadata": {},
   "outputs": [],
   "source": [
    "merged_df.index.names"
   ]
  },
  {
   "cell_type": "code",
   "execution_count": null,
   "metadata": {},
   "outputs": [],
   "source": [
    "Colorblind"
   ]
  },
  {
   "cell_type": "code",
   "execution_count": null,
   "metadata": {},
   "outputs": [],
   "source": [
    "merged_df.index.names[0]"
   ]
  },
  {
   "cell_type": "code",
   "execution_count": null,
   "metadata": {},
   "outputs": [],
   "source": []
  },
  {
   "cell_type": "code",
   "execution_count": null,
   "metadata": {},
   "outputs": [],
   "source": []
  }
 ],
 "metadata": {
  "kernelspec": {
   "display_name": "microbiome",
   "language": "python",
   "name": "python3"
  },
  "language_info": {
   "codemirror_mode": {
    "name": "ipython",
    "version": 3
   },
   "file_extension": ".py",
   "mimetype": "text/x-python",
   "name": "python",
   "nbconvert_exporter": "python",
   "pygments_lexer": "ipython3",
   "version": "3.13.1"
  }
 },
 "nbformat": 4,
 "nbformat_minor": 2
}
