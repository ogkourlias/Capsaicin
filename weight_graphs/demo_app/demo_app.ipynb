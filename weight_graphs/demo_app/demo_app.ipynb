{
 "cells": [
  {
   "cell_type": "code",
   "execution_count": null,
   "id": "fb011d50",
   "metadata": {},
   "outputs": [],
   "source": [
    "# Importing required functions \n",
    "import random\n",
    "import matplotlib.pyplot as plt\n",
    "\n",
    "from flask import Flask, render_template \n",
    "from bokeh.embed import components \n",
    "from bokeh.plotting import figure, show\n",
    "from bokeh.io import output_notebook"
   ]
  },
  {
   "cell_type": "code",
   "execution_count": null,
   "id": "7ac5b874",
   "metadata": {},
   "outputs": [],
   "source": [
    "import pandas as pd\n",
    "import numpy as np\n",
    "import yaml\n",
    "import statistics\n",
    "\n",
    "#Config-bestand laden als dictionary zodat buiten de functie alle opties\n",
    "#als key+waarde behandeld kunnen worden\n",
    "def get_config():\n",
    "    with open(\"config.yaml\", 'r') as stream:\n",
    "        config = yaml.safe_load(stream)\n",
    "    return config\n",
    "\n",
    "config = get_config()\n",
    "\n",
    "#df = config[\"weight_file\"]\n",
    "#df = pd.read_csv(config, sep=';', decimal=',')\n",
    "#richarddf = pd.read_csv(\"updated_Data_Results(Richard).csv\", sep=';', decimal=',')"
   ]
  },
  {
   "cell_type": "code",
   "execution_count": null,
   "id": "cbd70afa",
   "metadata": {},
   "outputs": [],
   "source": [
    "#List comprehension voor de dataframes, hierna mergen tot grote dataframes\n",
    "dataframes = [pd.read_csv(file, sep=';', decimal=',') for file in config.values()]"
   ]
  },
  {
   "cell_type": "code",
   "execution_count": null,
   "id": "3629f9ef",
   "metadata": {},
   "outputs": [],
   "source": [
    "#List comprehension voor de dataframes, hierna mergen tot grote dataframes\n",
    "dataframes = [pd.read_csv(file, sep=';', decimal=',') for file in config.values()]"
   ]
  },
  {
   "cell_type": "code",
   "execution_count": null,
   "id": "2ca93d09",
   "metadata": {},
   "outputs": [],
   "source": [
    "merged_df = pd.concat(dataframes, ignore_index=True)"
   ]
  },
  {
   "cell_type": "code",
   "execution_count": null,
   "id": "1e1613b0",
   "metadata": {},
   "outputs": [],
   "source": [
    "merged_df.head()"
   ]
  },
  {
   "cell_type": "code",
   "execution_count": null,
   "id": "26111310",
   "metadata": {},
   "outputs": [],
   "source": [
    "merged_df.columns.values"
   ]
  },
  {
   "cell_type": "code",
   "execution_count": null,
   "id": "4647ed9f",
   "metadata": {},
   "outputs": [],
   "source": [
    "merged_df.to_csv('out.csv')"
   ]
  },
  {
   "cell_type": "code",
   "execution_count": null,
   "id": "7267be9d",
   "metadata": {},
   "outputs": [],
   "source": [
    "blankIndex = [''] * len(df)\n",
    "df.index = blankIndex\n",
    "\n",
    "# Ontbrekende waardes (NaN) aanpassen naar lege cellen\n",
    "#df = df.fillna(\"\")\n",
    "merged_df.head()"
   ]
  },
  {
   "cell_type": "code",
   "execution_count": null,
   "id": "4e8d75ac",
   "metadata": {},
   "outputs": [],
   "source": [
    "len(merged_df)\n",
    "df = merged_df"
   ]
  },
  {
   "cell_type": "code",
   "execution_count": null,
   "id": "b49eb9eb",
   "metadata": {},
   "outputs": [],
   "source": [
    "import pandas as pd\n",
    "import glob\n",
    "import os\n",
    "\n",
    "#Map met CSV-bestanden\n",
    "folder_path = \"/home/jeannovy/Documenten/capsaicin/weight_graphs/\"\n",
    "\n",
    "# Zoek alle CSV-bestanden\n",
    "csv_files = glob.glob(os.path.join(folder_path, \"*.csv\"))\n",
    "\n",
    "# Data inladen en timestamp correct zetten\n",
    "dataframes = []\n",
    "for file in csv_files:\n",
    "    df = pd.read_csv(file, parse_dates=[\"Date\\Parameters \"], sep=';', decimal=',')  # Zorg dat timestamp als datetime wordt ingeladen\n",
    "    df[\"subject\"] = os.path.basename(file)  # Extra kolom om persoon te behouden\n",
    "    dataframes.append(df)\n",
    "\n",
    "# Combineer alle bestanden\n",
    "merged_df = pd.concat(dataframes, ignore_index=True)\n",
    "\n",
    "# Zorg ervoor dat de data gesorteerd is op tijd\n",
    "#merged_df = merged_df.sort_values(by=\"Date\\Parameters \")\n",
    "\n",
    "# Kolommen met dezelfde naam maar verschillende waarden oplossen\n",
    "# Optie 1: Gemiddelde nemen bij conflicten\n",
    "# merged_df = merged_df.groupby(\"Date\\Parameters \").mean().reset_index()\n",
    "\n",
    "# Optie 2: Pivoteren als er kolommen per bestand verschillen\n",
    "#merged_df = merged_df.pivot_table(index=\"timestamp\", aggfunc=\"first\")\n"
   ]
  },
  {
   "cell_type": "code",
   "execution_count": null,
   "id": "a6337776",
   "metadata": {},
   "outputs": [],
   "source": [
    "# Test om dataframe kolomnaam automatisch te generen voor elke persoon\n",
    "print(f\"De lengte van de dataframes, dus het aantal personen zijn: {len(dataframes)}.\")\n",
    "# Begin index-waarde definiëren\n",
    "i = -1\n",
    "for persons in dataframes:\n",
    "    i += 1\n",
    "    name_id = i + 1\n",
    "    Weightname = 'Weight' + str(name_id)\n",
    "    persons[Weightname] = 5\n",
    "    dataframes[i] = persons"
   ]
  },
  {
   "cell_type": "code",
   "execution_count": null,
   "id": "937f5493",
   "metadata": {},
   "outputs": [],
   "source": [
    "# Test om dataframe kolomnaam automatisch te generen voor elke persoon\n",
    "# Bij elke keer dataframes opnieuw laden Jeannovy!!!!\n",
    "print(f\"De lengte van de dataframes, dus het aantal personen zijn: {len(dataframes)}.\")\n",
    "# Begin index-waarde definiëren\n",
    "i = -1\n",
    "name_id = 0\n",
    "for person in dataframes:\n",
    "    i += 1\n",
    "    name_id = i + 1\n",
    "    Weightname = 'Weight' + str(name_id)\n",
    "    person[Weightname] = 5\n",
    "    startdate = person['Date\\Parameters '].iloc[1]\n",
    "    startdate = pd.to_datetime(startdate, format='%d-%m-%Y')\n",
    "    dates = pd.to_datetime((person['Date\\Parameters ']), format='%d-%m-%Y')\n",
    "    Daysname = 'Days' + str(name_id)\n",
    "    person[Daysname] = (dates - startdate) / np.timedelta64(1, 'D')\n",
    "\n",
    "    # Ontbrekende waardes verwijderen en sorteren op basis van naam van dosis\n",
    "    person.dropna(subset=['Weight (Kg)'], inplace=True)\n",
    "    person = person[[Daysname,Weightname]]\n",
    "    dataframes[i] = person"
   ]
  },
  {
   "cell_type": "code",
   "execution_count": null,
   "id": "136725c1",
   "metadata": {},
   "outputs": [],
   "source": [
    "# Test om dataframe kolomnaam automatisch te generen voor elke persoon\n",
    "# Bij elke keer dataframes opnieuw laden Jeannovy!!!!\n",
    "print(f\"De lengte van de dataframes, dus het aantal personen zijn: {len(dataframes)}.\")\n",
    "# Begin index-waarde definiëren\n",
    "i = -1\n",
    "name_id = 0\n",
    "for person in dataframes:\n",
    "    i += 1\n",
    "    name_id = i + 1\n",
    "    Weightname = 'Weight' + str(name_id)\n",
    "    person[Weightname] = 5\n",
    "    startdate = person['Date\\Parameters '].iloc[1]\n",
    "    startdate = pd.to_datetime(startdate, format='%d-%m-%Y')\n",
    "    dates = pd.to_datetime((person['Date\\Parameters ']), format='%d-%m-%Y')\n",
    "    \n",
    "    # Unieke kolomnamen definiëren met de name_id\n",
    "    Days_name = 'Days' + str(name_id)\n",
    "    Dose_name = 'Dose' + str(name_id)\n",
    "    Date_name = 'Date' + str(name_id)\n",
    "    Weight_name = 'Weight' + str(name_id)\n",
    "    BMI_name = 'BMI' + str(name_id)\n",
    "    RMI_name = 'RMI' + str(name_id)\n",
    "    Fat_name = 'Fat' + str(name_id)\n",
    "    Muscle_name = 'Muscle' + str(name_id)\n",
    "    hr_name = 'hr' + str(name_id)\n",
    "    bpdia_name = 'bpdia' + str(name_id)\n",
    "    bpsys_name = 'bpsys' + str(name_id)\n",
    "\n",
    "    # Try error block, bij een KeyError dan de index returnen met foutmelding\n",
    "    try:\n",
    "        # Nu de belangrijke parameter kolommen maken voor elke persoon\n",
    "        person[Days_name] = (dates - startdate) / np.timedelta64(1, 'D')\n",
    "        person[Dose_name] = person['Intake Dose']\n",
    "        person[Date_name] = person['Date\\Parameters ']\n",
    "        person[Weight_name] = person['Weight (Kg)']\n",
    "        person[BMI_name] = person['BMI (kg/m2)']\n",
    "        person[RMI_name] = person['RMI (kcal)']\n",
    "        person[Fat_name] = person['Body Fat (%)']\n",
    "        person[Muscle_name] = person['Muscle (%)']\n",
    "        person[hr_name] = person['Heart rate']\n",
    "        person[bpdia_name] = person['Blood Pressure(diastolic) (mmHg)']\n",
    "        person[bpsys_name] = person['Blood Pressure(systolic) (mmHg)']\n",
    "   \n",
    "        # DataFrame reduceren tot de gewenste kolommen\n",
    "        person = person[[Days_name,Dose_name,Date_name,Weight_name,BMI_name,RMI_name,Fat_name,Muscle_name,hr_name,bpdia_name,bpsys_name]]\n",
    "    \n",
    "        # DataFrame op de juiste index i updaten\n",
    "        dataframes[i] = person\n",
    "    except ValueError:\n",
    "        print(f\"There was an error with the column values for file {name_id}.\")\n"
   ]
  },
  {
   "cell_type": "code",
   "execution_count": null,
   "id": "45229b52",
   "metadata": {},
   "outputs": [],
   "source": [
    "dataframes[1].head()"
   ]
  },
  {
   "cell_type": "code",
   "execution_count": null,
   "id": "97a37faa",
   "metadata": {},
   "outputs": [],
   "source": [
    "merged_df = pd.concat(dataframes, ignore_index=False).reset_index()\n",
    "merged_df = merged_df.sort_values(by=\"Date1\")"
   ]
  },
  {
   "cell_type": "code",
   "execution_count": null,
   "id": "d7ad2fc8",
   "metadata": {},
   "outputs": [],
   "source": [
    "merged_df = pd.concat(dataframes, axis=1)"
   ]
  },
  {
   "cell_type": "code",
   "execution_count": null,
   "id": "7324d4ca",
   "metadata": {},
   "outputs": [],
   "source": [
    "merged_df.head()"
   ]
  },
  {
   "cell_type": "code",
   "execution_count": null,
   "id": "d974877d",
   "metadata": {},
   "outputs": [],
   "source": [
    "merged_df.to_csv('out.csv')"
   ]
  },
  {
   "cell_type": "code",
   "execution_count": null,
   "id": "3edd81b7",
   "metadata": {},
   "outputs": [],
   "source": [
    "startdate = df['Date\\Parameters '].iloc[1]\n",
    "startdate = pd.to_datetime(startdate, format='%d-%m-%Y')\n",
    "dates = pd.to_datetime((df['Date\\Parameters ']), format='%d-%m-%Y')\n",
    "#print(dates)\n",
    "df['Days'] = (dates - startdate) / np.timedelta64(1, 'D')\n",
    "\n",
    "# Ontbrekende waardes verwijderen en sorteren op basis van naam van dosis\n",
    "df.dropna(subset=['Weight (Kg)'], inplace=True)\n",
    "\n",
    "# Nieuw dataframe met alleen vereiste kolommen toevoegen\n",
    "df2 = pd.DataFrame(columns=['Dose','Date','Weight'])\n",
    "\n",
    "# Vereiste kolommen maken\n",
    "df2['Dose'] = df['Intake Dose']\n",
    "df2['Date'] = df['Date\\Parameters ']\n",
    "df2['Weight'] = df['Weight (Kg)']\n",
    "df2['BMI'] = df['BMI (kg/m2)']\n",
    "df2['RMI'] = df['RMI (kcal)']\n",
    "df2['Fat'] = df['Body Fat (%)']\n",
    "df2['Muscle'] = df['Muscle (%)']\n",
    "df2['hr'] = df['Heart rate']\n",
    "df2['bp (dia)'] = df['Blood Pressure(diastolic) (mmHg)']\n",
    "df2['bp (sys)'] = df['Blood Pressure(systolic) (mmHg)\\n']\n",
    "\n",
    "# Nieuwe dag kolom maken\n",
    "startdate = df2['Date'].iloc[0]\n",
    "startdate = pd.to_datetime(startdate, format='%d-%m-%Y')\n",
    "dates = pd.to_datetime((df2['Date']), format='%d-%m-%Y')\n",
    "df2['Days'] = (dates - startdate) / np.timedelta64(1, 'D')\n",
    "\n",
    "# Categorieën maken voor de data\n",
    "def my_func(x):\n",
    "    if x['Days'] <= 10 and x['Days'] > 0:\n",
    "        return \"1st Half Dose\"\n",
    "    if x['Days'] <= 21 and x['Days'] >= 11:\n",
    "        return \"1st Full Dose\"\n",
    "    if x['Days'] <= 42 and x['Days'] >= 22:\n",
    "        return \"2st Half Dose\"\n",
    "    if x['Days'] <= 63 and x['Days'] >= 43:\n",
    "        return \"2st Full Dose\"\n",
    "\n",
    "df2['Dosage Type'] = df2.apply(lambda x: my_func(x), 1)\n",
    "df2 = df2.dropna()"
   ]
  },
  {
   "cell_type": "code",
   "execution_count": null,
   "id": "722d6428",
   "metadata": {},
   "outputs": [],
   "source": [
    "# Importing required functions \n",
    "import random \n",
    "import statistics as st\n",
    "import seaborn as sns\n",
    "import matplotlib.pyplot as plt\n",
    "import base64\n",
    "\n",
    "from flask import Flask, render_template, request  \n",
    "from io import BytesIO\n",
    "\n",
    "# Flask constructor \n",
    "app = Flask(__name__)\n",
    "\n",
    "def load_data():\n",
    "    #Map met CSV-bestanden\n",
    "    folder_path = \".. /\"\n",
    "\n",
    "    # Zoek alle CSV-bestanden\n",
    "    csv_files = glob.glob(os.path.join(folder_path, \"*.csv\"))\n",
    "\n",
    "    # Data inladen en timestamp correct zetten\n",
    "    dataframes = []\n",
    "    for file in csv_files:\n",
    "        df = pd.read_csv(file, parse_dates=[\"Date\\Parameters \"], sep=';', decimal=',')  # Zorg dat timestamp als datetime wordt ingeladen\n",
    "        df[\"subject\"] = os.path.basename(file)  # Extra kolom om persoon te behouden\n",
    "        dataframes.append(df)\n",
    "        \n",
    "    # Test om dataframe kolomnaam automatisch te generen voor elke persoon\n",
    "    # Bij elke keer dataframes opnieuw laden\n",
    "    print(f\"De lengte van de dataframes, dus het aantal personen zijn: {len(dataframes)}.\")\n",
    "    # Begin index-waarde definiëren\n",
    "    i = -1\n",
    "    name_id = 0\n",
    "    for person in dataframes:\n",
    "        i += 1\n",
    "        name_id = i + 1\n",
    "        Weightname = 'Weight' + str(name_id)\n",
    "        person[Weightname] = 5\n",
    "        startdate = person['Date\\Parameters '].iloc[1]\n",
    "        startdate = pd.to_datetime(startdate, format='%d-%m-%Y')\n",
    "        dates = pd.to_datetime((person['Date\\Parameters ']), format='%d-%m-%Y')\n",
    "    \n",
    "        # Unieke kolomnamen definiëren met de name_id\n",
    "        Days_name = 'Days' + str(name_id)\n",
    "        Dose_name = 'Dose' + str(name_id)\n",
    "        Date_name = 'Date' + str(name_id)\n",
    "        Weight_name = 'Weight' + str(name_id)\n",
    "        BMI_name = 'BMI' + str(name_id)\n",
    "        RMI_name = 'RMI' + str(name_id)\n",
    "        Fat_name = 'Fat' + str(name_id)\n",
    "        Muscle_name = 'Muscle' + str(name_id)\n",
    "        hr_name = 'hr' + str(name_id)\n",
    "        bpdia_name = 'bpdia' + str(name_id)\n",
    "        bpsys_name = 'bpsys' + str(name_id)\n",
    "\n",
    "        # Try error block, bij een KeyError dan de index returnen met foutmelding\n",
    "        try:\n",
    "            # Nu de belangrijke parameter kolommen maken voor elke persoon\n",
    "            person[Days_name] = (dates - startdate) / np.timedelta64(1, 'D')\n",
    "            person[Dose_name] = person['Intake Dose']\n",
    "            person[Date_name] = person['Date\\Parameters ']\n",
    "            person[Weight_name] = person['Weight (Kg)']\n",
    "            person[BMI_name] = person['BMI (kg/m2)']\n",
    "            person[RMI_name] = person['RMI (kcal)']\n",
    "            person[Fat_name] = person['Body Fat (%)']\n",
    "            person[Muscle_name] = person['Muscle (%)']\n",
    "            person[hr_name] = person['Heart rate']\n",
    "            person[bpdia_name] = person['Blood Pressure(diastolic) (mmHg)']\n",
    "            person[bpsys_name] = person['Blood Pressure(systolic) (mmHg)']\n",
    "   \n",
    "            # DataFrame reduceren tot de gewenste kolommen\n",
    "            person = person[[Days_name,Dose_name,Date_name,Weight_name,BMI_name,RMI_name,Fat_name,Muscle_name,hr_name,bpdia_name,bpsys_name]]\n",
    "    \n",
    "            # DataFrame op de juiste index i updaten\n",
    "            dataframes[i] = person\n",
    "        except ValueError:\n",
    "            print(f\"There was an error with the column values for file {name_id}.\")\n",
    "            \n",
    "            merged_df = pd.concat(dataframes, ignore_index=False).reset_index()\n",
    "            merged_df = merged_df.sort_values(by=\"Date1\")\n",
    "            merged_df = pd.concat(dataframes, axis=1)\n",
    "\n",
    "\n",
    "# Root endpoint \n",
    "@app.route('/') \n",
    "def homepage():\n",
    "    typ = request.args.get('param', default = 'Weight', type = str)\n",
    "    dose_types = df2['Dosage Type'].unique()\n",
    "    max_values = df2.groupby(['Dosage Type'], sort=False)[typ].max()\n",
    "    min_values = df2.groupby(['Dosage Type'], sort=False)[typ].min()\n",
    "    avg_values = df2.groupby(['Dosage Type'], sort=False)[typ].mean()\n",
    "    std_values = df2.groupby(['Dosage Type'], sort=False)[typ].std()\n",
    "    summary_dict = {'dose_types': dose_types, 'avg_values': avg_values, 'std_values': std_values, 'min_values': min_values, 'max_values': max_values}\n",
    "    summary = result = pd.DataFrame(summary_dict)\n",
    "    parameters = df2.columns.values\n",
    "    #fig = sns.heatmap([[1,2],[3,4]]).get_figure()\n",
    "    #fig = sns.barplot(df2, x=\"Dosage Type\", y=typ)\n",
    "    box_plot = sns.boxplot(data=df2, x=\"Dosage Type\", y=typ, width=0.8)\n",
    "\n",
    "    # Gemiddelde berekenen voor verticale lijn\n",
    "    average = st.mean(df2[typ])\n",
    "    plt.axhline(average, color=\"orange\")\n",
    "\n",
    "    medians = df2.groupby(['Dosage Type'])['Weight'].mean()\n",
    "    vertical_offset = df2['Weight'].mean() * 0.05 # offset from median for display\n",
    "\n",
    "    box_plot.set_xticklabels(box_plot.get_xticklabels(), rotation=40, ha=\"right\")\n",
    "    pic_IObytes = BytesIO()\n",
    "    box_plot.figure.savefig(pic_IObytes,  format='png')\n",
    "    box_plot.figure.clf()\n",
    "    pic_IObytes.seek(0)\n",
    "    pic_pash = ''\n",
    "    pic_hash = base64.b64encode(pic_IObytes.read()).decode(\"utf-8\")\n",
    "    \n",
    "    # Return all the charts to the HTML template \n",
    "    return render_template('charts.html', parameters=parameters, pic_hash=pic_hash, summary=summary, typ=typ)\n",
    "\n",
    "\n",
    "# Main Driver Function \n",
    "if __name__ == '__main__': \n",
    "    # Run the application on the local development server \n",
    "    app.run() \n"
   ]
  },
  {
   "cell_type": "code",
   "execution_count": null,
   "id": "b67ea060",
   "metadata": {},
   "outputs": [],
   "source": [
    "csv_files"
   ]
  },
  {
   "cell_type": "code",
   "execution_count": null,
   "id": "b1ba3871",
   "metadata": {},
   "outputs": [],
   "source": [
    "parameter = \"hr3\"\n",
    "#box_plot.figure.clf()\n",
    "box_plot = sns.boxplot(data=merged_df, x=\"Dose3\", y=parameter, width=0.8)\n",
    "\n",
    "# Gemiddelde berekenen voor verticale lijn\n",
    "average = st.mean(merged_df[parameter])\n",
    "plt.axhline(average, color=\"orange\")\n",
    "\n",
    "medians = merged_df.groupby(['Dose3'])['hr3'].mean()\n",
    "vertical_offset = merged_df['hr3'].mean() * 0.05 # offset from median for display\n",
    "\n",
    "box_plot.set_xticklabels(box_plot.get_xticklabels(), rotation=40, ha=\"right\")"
   ]
  },
  {
   "cell_type": "code",
   "execution_count": null,
   "id": "5071ea81",
   "metadata": {},
   "outputs": [],
   "source": [
    "type(summary)"
   ]
  },
  {
   "cell_type": "code",
   "execution_count": null,
   "id": "4c93686c",
   "metadata": {},
   "outputs": [],
   "source": [
    "typ = 'Weight'\n",
    "dose_types = df2['Dosage Type'].unique()\n",
    "max_values = df2.groupby(['Dosage Type'], sort=False)[typ].max()\n",
    "min_values = df2.groupby(['Dosage Type'], sort=False)[typ].min()\n",
    "avg_values = df2.groupby(['Dosage Type'], sort=False)[typ].mean()\n",
    "std_values = df2.groupby(['Dosage Type'], sort=False)[typ].std()\n",
    "summary_dict = {'Average': avg_values, 'Standard Deviation': std_values, 'Minimum': min_values, 'Maximum': max_values}\n",
    "summary = result = pd.DataFrame(summary_dict)"
   ]
  },
  {
   "cell_type": "code",
   "execution_count": null,
   "id": "19a10c86",
   "metadata": {},
   "outputs": [],
   "source": [
    "summary"
   ]
  },
  {
   "cell_type": "code",
   "execution_count": null,
   "id": "2c987fce",
   "metadata": {},
   "outputs": [],
   "source": [
    "for index, row in summary.iterrows():\n",
    "    #row['Dosage Type']\n",
    "    print(row['Average'])\n",
    "    print(row['Standard Deviation'])"
   ]
  },
  {
   "cell_type": "code",
   "execution_count": null,
   "id": "f39c459f",
   "metadata": {},
   "outputs": [],
   "source": [
    "sns.barplot(df2, x=\"Dosage Type\", y='BMI')\n",
    "sns.barplot(df2, x=\"Dosage Type\", y='BMI')\n",
    "sns.barplot(df2, x=\"Dosage Type\", y='Date')"
   ]
  },
  {
   "cell_type": "code",
   "execution_count": null,
   "id": "669693fc",
   "metadata": {},
   "outputs": [],
   "source": [
    "print(df2.columns.values)"
   ]
  },
  {
   "cell_type": "code",
   "execution_count": null,
   "id": "8bed2186",
   "metadata": {},
   "outputs": [],
   "source": [
    "#fig = sns.heatmap([[1,2],[3,4]]).get_figure()\n",
    "#fig.savefig(s, format='png')\n",
    "#fig.close()\n",
    "#s = base64.b64encode(s.getvalue()).decode(\"utf-8\").replace(\"\\n\", \"\")\n",
    "#print('<img align=\"left\" src=\"data:image/png;base64,%s\">' % s)\n",
    "\n",
    "fig = sns.heatmap([[1,2],[3,4]]).get_figure()\n",
    "pic_IObytes = BytesIO()\n",
    "fig.savefig(pic_IObytes,  format='png')\n",
    "s = base64.b64encode(pic_IObytes.getvalue()).decode(\"utf-8\")\n",
    "print(s)\n",
    "#base64.b64encode(pic_IObytes.getvalue()).decode(\"utf-8\")\n",
    "#print('<img align=\"left\" src=\"data:image/png;base64,%pic_IObytes\">' % pic_IObytes)\n"
   ]
  },
  {
   "cell_type": "code",
   "execution_count": null,
   "id": "fbc0b5df",
   "metadata": {},
   "outputs": [],
   "source": [
    "import io\n",
    "import base64\n",
    "import matplotlib.pyplot as plt\n",
    "s = io.BytesIO()\n",
    "plt.plot(list(range(100)))\n",
    "plt.savefig(s, format='png', bbox_inches=\"tight\")\n",
    "plt.close()\n",
    "s = base64.b64encode(s.getvalue()).decode(\"utf-8\")\n",
    "#print('<img align=\"left\" src=\"data:image/png;base64,%s\">' % s)\n",
    "s"
   ]
  },
  {
   "cell_type": "code",
   "execution_count": null,
   "id": "57048740",
   "metadata": {},
   "outputs": [],
   "source": []
  }
 ],
 "metadata": {
  "kernelspec": {
   "display_name": "Python 3 (ipykernel)",
   "language": "python",
   "name": "python3"
  },
  "language_info": {
   "codemirror_mode": {
    "name": "ipython",
    "version": 3
   },
   "file_extension": ".py",
   "mimetype": "text/x-python",
   "name": "python",
   "nbconvert_exporter": "python",
   "pygments_lexer": "ipython3",
   "version": "3.11.2"
  }
 },
 "nbformat": 4,
 "nbformat_minor": 5
}
