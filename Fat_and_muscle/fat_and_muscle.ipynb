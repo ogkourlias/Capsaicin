{
 "cells": [
  {
   "cell_type": "code",
   "execution_count": null,
   "metadata": {},
   "outputs": [],
   "source": [
    "import pandas as pd\n",
    "import numpy as np\n",
    "import datetime as dt\n",
    "\n",
    "# Plotting libraries\n",
    "import matplotlib.pyplot as plt\n",
    "import seaborn as sns\n",
    "from bokeh.plotting import figure, show\n",
    "from bokeh.layouts import gridplot\n",
    "from bokeh.models import ColumnDataSource, TableColumn, DataTable\n",
    "from bokeh.io import output_notebook\n",
    "from matplotlib.backends.backend_tkagg import FigureCanvasTkAgg\n",
    "\n",
    "output_notebook()\n",
    "\n",
    "import tkinter as tk\n",
    "from tkinter import ttk\n",
    "import hvplot.pandas\n",
    "import panel as pn\n",
    "pn.extension()\n",
    "import holoviews as hv\n",
    "hv.extension('bokeh')\n",
    "\n",
    "# Statistics libraries\n",
    "import statsmodels.api as sm\n",
    "from ipywidgets import VBox\n",
    "\n",
    "from scipy import stats\n",
    "from scipy.stats import norm, shapiro, mannwhitneyu\n",
    "import plotly.graph_objects as go\n",
    "import plotly.express as px\n",
    "import ipywidgets as widgets\n",
    "from ipywidgets import Output  # ✅ Corrected Import\n",
    "\n",
    "from IPython.display import display\n",
    "\n",
    "\n"
   ]
  },
  {
   "cell_type": "code",
   "execution_count": null,
   "metadata": {},
   "outputs": [],
   "source": [
    "# loading data using data_source module(individual module for loading data)\n",
    "import data_source\n",
    "data_sources = data_source.get_data() # dictionary\n",
    "df_DSPH = pd.read_csv(data_sources['data_composite']) \n"
   ]
  },
  {
   "cell_type": "code",
   "execution_count": null,
   "metadata": {},
   "outputs": [],
   "source": [
    "df_DSPH.info()"
   ]
  },
  {
   "cell_type": "code",
   "execution_count": null,
   "metadata": {},
   "outputs": [],
   "source": [
    "def miss_values(df):\n",
    "    \"\"\"\n",
    "    Function to calculate the percentage of missing values (NaN) in each column \n",
    "    and the percentage of missing values in the entire DataFrame.\n",
    "\n",
    "    Parameters:\n",
    "    df (pandas.DataFrame): The DataFrame for which missing values are to be calculated.\n",
    "\n",
    "    Returns:\n",
    "    tuple: A tuple containing:\n",
    "        - dic_miss_value (dict): A dictionary where keys are column names and values are the percentage of missing values in that column.\n",
    "        - num_miss_df (float): The percentage of missing values in the entire DataFrame.\n",
    "    \"\"\"\n",
    "    \n",
    "    # Initialize an empty dictionary to store the missing values percentage for each column\n",
    "    dic_miss_value = {}\n",
    "\n",
    "    # Loop through each column in the DataFrame to calculate the percentage of missing values\n",
    "    for col in df.columns:\n",
    "        # Count the number of missing values (NaN) in the current column\n",
    "        num_miss = df[col].isna().sum()\n",
    "\n",
    "        # Calculate the percentage of missing values in the current column\n",
    "        # Avoid division by zero if the DataFrame is empty\n",
    "        percentage_miss = num_miss / len(df) if len(df) > 0 else 0\n",
    "\n",
    "        # Store the percentage of missing values for the current column in the dictionary\n",
    "        dic_miss_value[col] = percentage_miss\n",
    "\n",
    "    # Calculate the percentage of missing values in the entire DataFrame\n",
    "    # Avoid division by zero if the DataFrame is empty\n",
    "    num_miss_df = df.isna().sum().sum() / df.size if df.size > 0 else 0\n",
    "\n",
    "    # Return the dictionary of missing values percentages for each column and the overall missing value percentage\n",
    "    return dic_miss_value, num_miss_df\n",
    "\n"
   ]
  },
  {
   "cell_type": "code",
   "execution_count": null,
   "metadata": {},
   "outputs": [],
   "source": [
    "# Example usage:\n",
    "dic_miss_value, num_miss_df = miss_values(df_DSPH)  # Missing values in the DataFrame\n",
    "print(f'Missing values in each column: {dic_miss_value}')\n",
    "print(f'Missing values in the whole DataFrame: {num_miss_df:.2%}')"
   ]
  },
  {
   "cell_type": "code",
   "execution_count": null,
   "metadata": {},
   "outputs": [],
   "source": [
    "df_DSPH['Date1'] = pd.to_datetime(df_DSPH['Date1'], format=\"%Y-%m-%d\")\n"
   ]
  },
  {
   "cell_type": "code",
   "execution_count": null,
   "metadata": {},
   "outputs": [],
   "source": [
    "df_DSPH.tail()"
   ]
  },
  {
   "cell_type": "markdown",
   "metadata": {},
   "source": [
    "From inspection, it could be observed that:\n",
    "- the column Date1, Date2, Date3 & Date4 are all objects instead of dates\n",
    "- Date1, Date2, Date3 & Date4 all contain the same values and therefore it is not necessary to maintain them \n",
    "- intake of dosage stopped for the 1st and 2nd people immediately the period for the research was over. 3rd and 4th people, however, continued with the intake of the dosage for a period of time after the end of the research. Therefore, 3rd and 4th have less missing values as compared to the first 2 people"
   ]
  },
  {
   "cell_type": "markdown",
   "metadata": {},
   "source": [
    "# Data Cleaning"
   ]
  },
  {
   "cell_type": "code",
   "execution_count": null,
   "metadata": {},
   "outputs": [],
   "source": [
    "def fill_clear(df, missing_dict):\n",
    "    \"\"\"\n",
    "    Function to fill missing (NaN) values in specific columns of a DataFrame with the mean of those columns.\n",
    "    It only fills numeric columns, and it creates a copy of the original DataFrame to avoid direct modification.\n",
    "\n",
    "    Parameters:\n",
    "    df (pandas.DataFrame): The input DataFrame where missing values need to be filled.\n",
    "    missing_dict (dict): A dictionary where keys are column names and values are the strategy for filling missing values.\n",
    "                         In this case, it expects the strategy to be 'mean' for each numeric column.\n",
    "\n",
    "    Returns:\n",
    "    pandas.DataFrame: A new DataFrame with missing values filled in the specified columns.\n",
    "    \"\"\"\n",
    "    \n",
    "    # Create a copy of the DataFrame to avoid modifying the original DataFrame directly\n",
    "    df_copy = df.copy()\n",
    "\n",
    "    # Loop through each key (column name) in the missing_dict\n",
    "    for key in missing_dict.keys():\n",
    "        # Check if the column exists in the DataFrame\n",
    "        if key in df_copy.columns:\n",
    "            # If the column is numeric, fill missing values with the mean of that column\n",
    "            if pd.api.types.is_numeric_dtype(df_copy[key]):\n",
    "                mean_value = df_copy[key].mean()  # Calculate the mean of the numeric column\n",
    "                df_copy[key] = df_copy[key].fillna(mean_value)  # Fill missing values with the calculated mean\n",
    "            else:\n",
    "                # Print a message if the column is non-numeric and is skipped\n",
    "                print(f\"Skipping column '{key}' as it is non-numeric.\")\n",
    "        else:\n",
    "            # Print a message if the column does not exist in the DataFrame\n",
    "            print(f\"Column '{key}' not found in DataFrame.\")\n",
    "    \n",
    "    # Return the modified DataFrame with missing values filled\n",
    "    return df_copy\n"
   ]
  },
  {
   "cell_type": "code",
   "execution_count": null,
   "metadata": {},
   "outputs": [],
   "source": [
    "df_filled = fill_clear(df_DSPH,dic_miss_value)\n",
    "print(df_filled)"
   ]
  },
  {
   "cell_type": "code",
   "execution_count": null,
   "metadata": {},
   "outputs": [],
   "source": [
    "def remove_outliers_iqr(df, columns):\n",
    "    \"\"\"\n",
    "    Function to remove outliers in specified columns of a DataFrame using the Interquartile Range (IQR) method.\n",
    "    This method removes values that are outside the range defined by 1.5 times the IQR below the first quartile\n",
    "    or above the third quartile.\n",
    "\n",
    "    Parameters:\n",
    "    df (pandas.DataFrame): The input DataFrame where outliers need to be removed.\n",
    "    columns (list): A list of column names for which outliers will be removed using the IQR method.\n",
    "\n",
    "    Returns:\n",
    "    pandas.DataFrame: A new DataFrame with outliers removed from the specified columns.\n",
    "    \"\"\"\n",
    "    \n",
    "    # Create a copy of the DataFrame to avoid modifying the original DataFrame directly\n",
    "    df_clean = df.copy()\n",
    "\n",
    "    # Loop through each column in the specified columns list\n",
    "    for col in columns:\n",
    "        # Check if the column exists and is numeric\n",
    "        if col in df_clean.columns and pd.api.types.is_numeric_dtype(df_clean[col]):\n",
    "            # Calculate the first quartile (Q1) and third quartile (Q3)\n",
    "            Q1 = df_clean[col].quantile(0.25)\n",
    "            Q3 = df_clean[col].quantile(0.75)\n",
    "            \n",
    "            # Calculate the Interquartile Range (IQR)\n",
    "            IQR = Q3 - Q1\n",
    "            \n",
    "            # Determine the lower and upper bounds for outliers\n",
    "            lower_bound = Q1 - 1.5 * IQR\n",
    "            upper_bound = Q3 + 1.5 * IQR\n",
    "            \n",
    "            # Filter the DataFrame to remove rows with values outside the bounds\n",
    "            df_clean = df_clean[(df_clean[col] >= lower_bound) & (df_clean[col] <= upper_bound)]\n",
    "        \n",
    "        else:\n",
    "            # Print a message if the column is not numeric or doesn't exist\n",
    "            print(f\"Skipping column '{col}' (not numeric or not found).\")\n",
    "    \n",
    "    # Return the DataFrame with outliers removed\n",
    "    return df_clean\n"
   ]
  },
  {
   "cell_type": "code",
   "execution_count": null,
   "metadata": {},
   "outputs": [],
   "source": [
    "df_filled.info()"
   ]
  },
  {
   "cell_type": "code",
   "execution_count": null,
   "metadata": {},
   "outputs": [],
   "source": [
    "# Clean the \"Fat1\",\"Fat2\",\"Fat3\",\"Fat4\" columns\n",
    "columns_to_clean = ['Fat1','Fat2','Fat3','Fat4','Muscle4']\n",
    "df_filled[columns_to_clean]=df_filled[columns_to_clean].replace({r'%':'',r',':'.'},regex=True).apply(pd.to_numeric,errors='coerce')\n",
    "\n",
    "df_filled = df_filled.astype({'Fat1': 'float', 'Fat2': 'float', 'Fat3': 'float','Fat4':'float'})\n"
   ]
  },
  {
   "cell_type": "code",
   "execution_count": null,
   "metadata": {},
   "outputs": [],
   "source": [
    "df_filled.info()"
   ]
  },
  {
   "cell_type": "code",
   "execution_count": null,
   "metadata": {},
   "outputs": [],
   "source": [
    "# colums to be investigated\n",
    "used_columns = ['Fat1','Fat2','Fat3','Fat4',\n",
    "                'Muscle1','Muscle2','Muscle3','Muscle4']\n",
    "\n",
    "remove_outliers_iqr(df_filled, used_columns)"
   ]
  },
  {
   "cell_type": "code",
   "execution_count": null,
   "metadata": {},
   "outputs": [],
   "source": [
    "df_filled.columns"
   ]
  },
  {
   "cell_type": "code",
   "execution_count": null,
   "metadata": {},
   "outputs": [],
   "source": [
    "df_DSPH.columns = df_DSPH.columns.str.strip()\n",
    "df_filled.columns = df_filled.columns.str.strip()"
   ]
  },
  {
   "cell_type": "code",
   "execution_count": null,
   "metadata": {},
   "outputs": [],
   "source": [
    "df_filled.columns"
   ]
  },
  {
   "cell_type": "code",
   "execution_count": null,
   "metadata": {},
   "outputs": [],
   "source": [
    "columns = ['Fat1', 'Fat2', 'Fat3', 'Fat4']\n",
    "roman_labels = ['Ⅰ', 'Ⅱ', 'Ⅲ', 'Ⅳ']\n",
    "\n",
    "plt.figure(figsize=(12, 8))\n",
    "\n",
    "for i, (col, roman) in enumerate(zip(columns, roman_labels), 1):\n",
    "    plt.subplot(2, 2, i) \n",
    "    stats.probplot(df_filled[col].dropna(), dist=\"norm\", plot=plt) \n",
    "    plt.title(f'QQ Plot for {roman}') \n",
    "\n",
    "plt.tight_layout()\n",
    "plt.show()"
   ]
  },
  {
   "cell_type": "code",
   "execution_count": null,
   "metadata": {},
   "outputs": [],
   "source": [
    "\n",
    "# Define dosage periods\n",
    "dosage_periods = {\n",
    "    \"First Half Dosage\": (0, 10),\n",
    "    \"First Full Dosage\": (11, 21),\n",
    "    \"Second Half Dosage\": (21, 39),\n",
    "    \"Second Full Dosage\": (39, len(df_filled))\n",
    "}\n",
    "\n",
    "# Function to compute mean values\n",
    "def compute_means(df, column):\n",
    "    return {dosage: df[column].iloc[start:end].mean() for dosage, (start, end) in dosage_periods.items()}\n",
    "\n",
    "# Compute means for all persons\n",
    "persons = [\"Person I\", \"Person II\", \"Person III\", \"Person IV\"]\n",
    "fat_columns = [\"Fat1\", \"Fat2\", \"Fat3\", \"Fat4\"]\n",
    "colors = [\"blue\", \"red\", \"green\", \"purple\"]\n",
    "\n",
    "# Prepare Plotly figure\n",
    "fig = go.Figure()\n",
    "\n",
    "# Add traces for each person\n",
    "for i, (person, fat_column, color) in enumerate(zip(persons, fat_columns, colors)):\n",
    "    means_values = compute_means(df_filled, fat_column)\n",
    "    \n",
    "    fig.add_trace(go.Bar(\n",
    "        x=list(means_values.keys()),  # Use category names instead of numbers\n",
    "        y=list(means_values.values()),\n",
    "        text=[f\"{v:.2f}%\" for v in means_values.values()],\n",
    "        textposition=\"auto\",\n",
    "        name=person,\n",
    "        marker=dict(color=color),\n",
    "        visible=True if i == 0 else False  # Only Person I is visible initially\n",
    "    ))\n",
    "\n",
    "# Define visibility settings for dropdown menu\n",
    "visibility_settings = [\n",
    "    [True if i == j else False for j in range(len(persons))] for i in range(len(persons))\n",
    "]\n",
    "\n",
    "# Add dropdown menu for selecting persons\n",
    "fig.update_layout(\n",
    "    updatemenus=[{\n",
    "        'buttons': [\n",
    "            {'label': person, 'method': 'update', 'args': [\n",
    "                {'visible': visibility}, {'title': f'Comparison of Dosage Effects on % Fat Over Time ({person})'}\n",
    "            ]}\n",
    "            for person, visibility in zip(persons, visibility_settings)\n",
    "        ],\n",
    "        'direction': 'down',\n",
    "        'showactive': True,\n",
    "    }],\n",
    "    title=\"Comparison of Dosage Effects on % Fat Over Time (Person I)\",\n",
    "    xaxis_title=\"Dosage Periods\",\n",
    "    yaxis_title=\"Mean % Fat\",\n",
    "    bargap=0.2,\n",
    "    bargroupgap=0.1\n",
    ")\n",
    "\n",
    "fig.show()\n"
   ]
  },
  {
   "cell_type": "code",
   "execution_count": null,
   "metadata": {},
   "outputs": [],
   "source": [
    "# Define new columns\n",
    "fat_percentage = ['Fat1', 'Fat2', 'Fat3', 'Fat4']\n",
    "roman_labels = ['Ⅰ', 'Ⅱ', 'Ⅲ', 'Ⅳ']\n",
    "\n",
    "# Convert to numeric to avoid errors\n",
    "for col in  fat_percentage:\n",
    "    df_filled[col] = pd.to_numeric(df_filled[col], errors='coerce')\n",
    "\n",
    "# Plot Heart-rate\n",
    "plt.figure(figsize=(12, 8))\n",
    "for i, (col, roman) in enumerate(zip(fat_percentage, roman_labels), 1):\n",
    "    plt.subplot(2, 2, i)\n",
    "    sns.histplot(df_filled[col], kde=True, bins=15, color='orange')\n",
    "    plt.title(f'Distribution of Percentage Fat - {roman}')\n",
    "    plt.xlabel('% Fat')\n",
    "    plt.ylabel('Frequency')\n",
    "\n",
    "plt.tight_layout()\n",
    "plt.show()\n"
   ]
  },
  {
   "cell_type": "code",
   "execution_count": null,
   "metadata": {},
   "outputs": [],
   "source": [
    "df_filled.columns"
   ]
  },
  {
   "cell_type": "markdown",
   "metadata": {},
   "source": [
    "# PERCENTAGE MUSCLE"
   ]
  },
  {
   "cell_type": "code",
   "execution_count": null,
   "metadata": {},
   "outputs": [],
   "source": [
    "# Clean the \"Muscle1\",\"Muscle2\",\"Muscle3\",\"Muscle4\" columns\n",
    "columns_to_clean = ['Muscle1','Muscle2','Muscle3','Muscle4']\n",
    "df_filled[columns_to_clean]=df_filled[columns_to_clean].replace({r'%':'',r',':'.'},regex=True).apply(pd.to_numeric,errors='coerce')\n",
    "\n",
    "df_filled = df_filled.astype({'Muscle1': 'float', 'Muscle2': 'float', 'Muscle3': 'float','Muscle4':'float'})\n"
   ]
  },
  {
   "cell_type": "code",
   "execution_count": null,
   "metadata": {},
   "outputs": [],
   "source": [
    "# colums to be investigated\n",
    "used_columns = ['Muscle1','Muscle2','Muscle3','Muscle4']\n",
    "\n",
    "remove_outliers_iqr(df_filled, used_columns)"
   ]
  },
  {
   "cell_type": "code",
   "execution_count": null,
   "metadata": {},
   "outputs": [],
   "source": [
    "df_DSPH.columns = df_DSPH.columns.str.strip()\n",
    "df_filled.columns = df_filled.columns.str.strip()"
   ]
  },
  {
   "cell_type": "code",
   "execution_count": null,
   "metadata": {},
   "outputs": [],
   "source": [
    "columns = ['Muscle1', 'Muscle2', 'Muscle3', 'Muscle4']\n",
    "roman_labels = ['Ⅰ', 'Ⅱ', 'Ⅲ', 'Ⅳ']\n",
    "\n",
    "plt.figure(figsize=(12, 8))\n",
    "\n",
    "for i, (col, roman) in enumerate(zip(columns, roman_labels), 1):\n",
    "    plt.subplot(2, 2, i) \n",
    "    stats.probplot(df_filled[col].dropna(), dist=\"norm\", plot=plt) \n",
    "    plt.title(f'QQ Plot for {roman}') \n",
    "\n",
    "plt.tight_layout()\n",
    "plt.show()"
   ]
  },
  {
   "cell_type": "code",
   "execution_count": null,
   "metadata": {},
   "outputs": [],
   "source": [
    "\n",
    "# Define dosage periods\n",
    "dosage_periods = {\n",
    "    \"First Half Dosage\": (0, 10),\n",
    "    \"First Full Dosage\": (11, 21),\n",
    "    \"Second Half Dosage\": (21, 39),\n",
    "    \"Second Full Dosage\": (39, len(df_filled))\n",
    "}\n",
    "\n",
    "# Function to compute mean values\n",
    "def compute_means(df, column):\n",
    "    return {dosage: df[column].iloc[start:end].mean() for dosage, (start, end) in dosage_periods.items()}\n",
    "\n",
    "# Compute means for all persons\n",
    "persons = [\"Person I\", \"Person II\", \"Person III\", \"Person IV\"]\n",
    "muscle_columns = [\"Muscle1\", \"Muscle2\", \"Muscle3\", \"Muscle4\"]\n",
    "colors = [\"blue\", \"red\", \"green\", \"purple\"]\n",
    "\n",
    "# Prepare Plotly figure\n",
    "fig = go.Figure()\n",
    "\n",
    "# Add traces for each person\n",
    "for i, (person, muscle_column, color) in enumerate(zip(persons, muscle_columns, colors)):\n",
    "    means_values = compute_means(df_filled, muscle_column)\n",
    "    \n",
    "    fig.add_trace(go.Bar(\n",
    "        x=list(means_values.keys()),  # Use category names instead of numbers\n",
    "        y=list(means_values.values()),\n",
    "        text=[f\"{v:.2f}%\" for v in means_values.values()],\n",
    "        textposition=\"auto\",\n",
    "        name=person,\n",
    "        marker=dict(color=color),\n",
    "        visible=True if i == 0 else False  # Only Person I is visible initially\n",
    "    ))\n",
    "\n",
    "# Define visibility settings for dropdown menu\n",
    "visibility_settings = [\n",
    "    [True if i == j else False for j in range(len(persons))] for i in range(len(persons))\n",
    "]\n",
    "\n",
    "# Add dropdown menu for selecting persons\n",
    "fig.update_layout(\n",
    "    updatemenus=[{\n",
    "        'buttons': [\n",
    "            {'label': person, 'method': 'update', 'args': [\n",
    "                {'visible': visibility}, {'title': f'Comparison of Dosage Effects on % Muscle Over Time ({person})'}\n",
    "            ]}\n",
    "            for person, visibility in zip(persons, visibility_settings)\n",
    "        ],\n",
    "        'direction': 'down',\n",
    "        'showactive': True,\n",
    "    }],\n",
    "    title=\"Comparison of Dosage Effects on % Muscle Over Time (Person I)\",\n",
    "    xaxis_title=\"Dosage Periods\",\n",
    "    yaxis_title=\"Mean % Muscle\",\n",
    "    bargap=0.2,\n",
    "    bargroupgap=0.1\n",
    ")\n",
    "\n",
    "fig.show()\n"
   ]
  },
  {
   "cell_type": "code",
   "execution_count": null,
   "metadata": {},
   "outputs": [],
   "source": [
    "# Define new columns\n",
    "muscle_percentage = ['Muscle1', 'Muscle2', 'Muscle3', 'Muscle4']\n",
    "roman_labels = ['Ⅰ', 'Ⅱ', 'Ⅲ', 'Ⅳ']\n",
    "\n",
    "# Convert to numeric to avoid errors\n",
    "for col in  muscle_percentage:\n",
    "    df_filled[col] = pd.to_numeric(df_filled[col], errors='coerce')\n",
    "\n",
    "# Plot Heart-rate\n",
    "plt.figure(figsize=(12, 8))\n",
    "for i, (col, roman) in enumerate(zip(muscle_percentage, roman_labels), 1):\n",
    "    plt.subplot(2, 2, i)\n",
    "    sns.histplot(df_filled[col], kde=True, bins=15, color='orange')\n",
    "    plt.title(f'Distribution of Percentage Fat - {roman}')\n",
    "    plt.xlabel('% Fat')\n",
    "    plt.ylabel('Frequency')\n",
    "\n",
    "plt.tight_layout()\n",
    "plt.show()\n"
   ]
  },
  {
   "cell_type": "code",
   "execution_count": null,
   "metadata": {},
   "outputs": [],
   "source": []
  }
 ],
 "metadata": {
  "kernelspec": {
   "display_name": "base",
   "language": "python",
   "name": "python3"
  },
  "language_info": {
   "codemirror_mode": {
    "name": "ipython",
    "version": 3
   },
   "file_extension": ".py",
   "mimetype": "text/x-python",
   "name": "python",
   "nbconvert_exporter": "python",
   "pygments_lexer": "ipython3",
   "version": "3.12.4"
  }
 },
 "nbformat": 4,
 "nbformat_minor": 2
}
